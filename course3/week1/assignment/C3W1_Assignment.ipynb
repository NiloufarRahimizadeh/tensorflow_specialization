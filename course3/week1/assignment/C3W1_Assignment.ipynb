{
  "nbformat": 4,
  "nbformat_minor": 0,
  "metadata": {
    "colab": {
      "provenance": []
    },
    "kernelspec": {
      "name": "python3",
      "display_name": "Python 3"
    },
    "language_info": {
      "name": "python"
    }
  },
  "cells": [
    {
      "cell_type": "markdown",
      "source": [
        "# Explore the BBC News archive"
      ],
      "metadata": {
        "id": "BMgpu0QfyIqm"
      }
    },
    {
      "cell_type": "code",
      "execution_count": null,
      "metadata": {
        "id": "cE15e__Trknf"
      },
      "outputs": [],
      "source": [
        "!wget https://www.kaggle.com/competitions/learn-ai-bbc/data/bbc-text.csv"
      ]
    },
    {
      "cell_type": "code",
      "source": [
        "import csv\n",
        "from tensorflow.keras.preprocessing.text import Tokenizer\n",
        "from tensorflow.keras.preprocessing.sequence import pad_sequences\n",
        "\n",
        "\n",
        "\n",
        "with open(\"./BBC News Train.csv\", 'r') as csvfile:\n",
        "    print(f\"First line (header) looks like this:\\n\\n{csvfile.readline()}\")\n",
        "    print(f\"Each data point looks like this:\\n\\n{csvfile.readline()}\")\n",
        "    # for x in csvfile:\n",
        "    #   print(x)      \n",
        "    \n",
        "\n"
      ],
      "metadata": {
        "id": "4vO1Mc1_ysz7",
        "colab": {
          "base_uri": "https://localhost:8080/"
        },
        "outputId": "e65fa19c-173a-4401-b485-9666446b60b5"
      },
      "execution_count": 6,
      "outputs": [
        {
          "output_type": "stream",
          "name": "stdout",
          "text": [
            "First line (header) looks like this:\n",
            "\n",
            "ArticleId,Text,Category\n",
            "\n",
            "Each data point looks like this:\n",
            "\n",
            "1833,worldcom ex-boss launches defence lawyers defending former worldcom chief bernie ebbers against a battery of fraud charges have called a company whistleblower as their first witness.  cynthia cooper  worldcom s ex-head of internal accounting  alerted directors to irregular accounting practices at the us telecoms giant in 2002. her warnings led to the collapse of the firm following the discovery of an $11bn (£5.7bn) accounting fraud. mr ebbers has pleaded not guilty to charges of fraud and conspiracy.  prosecution lawyers have argued that mr ebbers orchestrated a series of accounting tricks at worldcom  ordering employees to hide expenses and inflate revenues to meet wall street earnings estimates. but ms cooper  who now runs her own consulting business  told a jury in new york on wednesday that external auditors arthur andersen had approved worldcom s accounting in early 2001 and 2002. she said andersen had given a  green light  to the procedures and practices used by worldcom. mr ebber s lawyers have said he was unaware of the fraud  arguing that auditors did not alert him to any problems.  ms cooper also said that during shareholder meetings mr ebbers often passed over technical questions to the company s finance chief  giving only  brief  answers himself. the prosecution s star witness  former worldcom financial chief scott sullivan  has said that mr ebbers ordered accounting adjustments at the firm  telling him to  hit our books . however  ms cooper said mr sullivan had not mentioned  anything uncomfortable  about worldcom s accounting during a 2001 audit committee meeting. mr ebbers could face a jail sentence of 85 years if convicted of all the charges he is facing. worldcom emerged from bankruptcy protection in 2004  and is now known as mci. last week  mci agreed to a buyout by verizon communications in a deal valued at $6.75bn.,business\n",
            "\n"
          ]
        }
      ]
    },
    {
      "cell_type": "markdown",
      "source": [
        "### Removing Stopwords"
      ],
      "metadata": {
        "id": "P__pkSjqn9rP"
      }
    },
    {
      "cell_type": "code",
      "source": [
        "def remove_stopwords(sentence):\n",
        "  stopwords = [\"a\", \"about\", \"above\", \"after\", \"again\", \"against\", \"all\", \"am\", \"an\", \"and\", \"any\", \"are\", \"as\", \"at\", \"be\", \"because\", \"been\", \"before\", \"being\", \"below\", \"between\", \"both\", \"but\", \"by\", \"could\", \"did\", \"do\", \"does\", \"doing\", \"down\", \"during\", \"each\", \"few\", \"for\", \"from\", \"further\", \"had\", \"has\", \"have\", \"having\", \"he\", \"he'd\", \"he'll\", \"he's\", \"her\", \"here\", \"here's\", \"hers\", \"herself\", \"him\", \"himself\", \"his\", \"how\", \"how's\", \"i\", \"i'd\", \"i'll\", \"i'm\", \"i've\", \"if\", \"in\", \"into\", \"is\", \"it\", \"it's\", \"its\", \"itself\", \"let's\", \"me\", \"more\", \"most\", \"my\", \"myself\", \"nor\", \"of\", \"on\", \"once\", \"only\", \"or\", \"other\", \"ought\", \"our\", \"ours\", \"ourselves\", \"out\", \"over\", \"own\", \"same\", \"she\", \"she'd\", \"she'll\", \"she's\", \"should\", \"so\", \"some\", \"such\", \"than\", \"that\", \"that's\", \"the\", \"their\", \"theirs\", \"them\", \"themselves\", \"then\", \"there\", \"there's\", \"these\", \"they\", \"they'd\", \"they'll\", \"they're\", \"they've\", \"this\", \"those\", \"through\", \"to\", \"too\", \"under\", \"until\", \"up\", \"very\", \"was\", \"we\", \"we'd\", \"we'll\", \"we're\", \"we've\", \"were\", \"what\", \"what's\", \"when\", \"when's\", \"where\", \"where's\", \"which\", \"while\", \"who\", \"who's\", \"whom\", \"why\", \"why's\", \"with\", \"would\", \"you\", \"you'd\", \"you'll\", \"you're\", \"you've\", \"your\", \"yours\", \"yourself\", \"yourselves\" ]\n",
        "  sentence = sentence.lower()\n",
        "  words = sentence.split()\n",
        "  results_words = [word for word in words if word not in stopwords]\n",
        "  sentence = ' '.join(results_words)\n",
        "  return sentence"
      ],
      "metadata": {
        "id": "b-TO1Mskm_jT"
      },
      "execution_count": 7,
      "outputs": []
    },
    {
      "cell_type": "code",
      "source": [
        "remove_stopwords(\"I am about to go to the store and get any snack\")"
      ],
      "metadata": {
        "colab": {
          "base_uri": "https://localhost:8080/",
          "height": 36
        },
        "id": "3GMeOiSMsIR0",
        "outputId": "e8d58211-93b0-454b-f91b-476c4d67c9c5"
      },
      "execution_count": 8,
      "outputs": [
        {
          "output_type": "execute_result",
          "data": {
            "text/plain": [
              "'go store get snack'"
            ],
            "application/vnd.google.colaboratory.intrinsic+json": {
              "type": "string"
            }
          },
          "metadata": {},
          "execution_count": 8
        }
      ]
    },
    {
      "cell_type": "markdown",
      "source": [
        "### Reading the raw data"
      ],
      "metadata": {
        "id": "mXawaSipseyR"
      }
    },
    {
      "cell_type": "code",
      "source": [
        "def parse_data_from_file(filename):\n",
        "  sentences = []\n",
        "  labels = []\n",
        "  with open(filename, 'r') as csvfile:\n",
        "    reader = csv.reader(csvfile, delimiter=',')\n",
        "    print(reader)\n",
        "    next(reader, None)\n",
        "    for row in reader:\n",
        "      labels.append(remove_stopwords(row[2]))\n",
        "      sentences.append(remove_stopwords(row[1]))\n",
        "  return sentences, labels"
      ],
      "metadata": {
        "id": "WbiaWtFDsOGQ"
      },
      "execution_count": 9,
      "outputs": []
    },
    {
      "cell_type": "code",
      "source": [
        "sentences, labels = parse_data_from_file(\"./BBC News Train.csv\")"
      ],
      "metadata": {
        "colab": {
          "base_uri": "https://localhost:8080/"
        },
        "id": "EDBuamnjwisi",
        "outputId": "2aa4b645-edce-4109-fb98-8973e3c531f1"
      },
      "execution_count": 10,
      "outputs": [
        {
          "output_type": "stream",
          "name": "stdout",
          "text": [
            "<_csv.reader object at 0x7ff17b5abcf0>\n"
          ]
        }
      ]
    },
    {
      "cell_type": "code",
      "source": [
        "print(sentences[0])"
      ],
      "metadata": {
        "colab": {
          "base_uri": "https://localhost:8080/"
        },
        "id": "DE-V4cOrxfXD",
        "outputId": "d354ad2e-4061-436c-9744-d513d890546b"
      },
      "execution_count": 11,
      "outputs": [
        {
          "output_type": "stream",
          "name": "stdout",
          "text": [
            "worldcom ex-boss launches defence lawyers defending former worldcom chief bernie ebbers battery fraud charges called company whistleblower first witness. cynthia cooper worldcom s ex-head internal accounting alerted directors irregular accounting practices us telecoms giant 2002. warnings led collapse firm following discovery $11bn (£5.7bn) accounting fraud. mr ebbers pleaded not guilty charges fraud conspiracy. prosecution lawyers argued mr ebbers orchestrated series accounting tricks worldcom ordering employees hide expenses inflate revenues meet wall street earnings estimates. ms cooper now runs consulting business told jury new york wednesday external auditors arthur andersen approved worldcom s accounting early 2001 2002. said andersen given green light procedures practices used worldcom. mr ebber s lawyers said unaware fraud arguing auditors not alert problems. ms cooper also said shareholder meetings mr ebbers often passed technical questions company s finance chief giving brief answers himself. prosecution s star witness former worldcom financial chief scott sullivan said mr ebbers ordered accounting adjustments firm telling hit books . however ms cooper said mr sullivan not mentioned anything uncomfortable worldcom s accounting 2001 audit committee meeting. mr ebbers face jail sentence 85 years convicted charges facing. worldcom emerged bankruptcy protection 2004 now known mci. last week mci agreed buyout verizon communications deal valued $6.75bn.\n"
          ]
        }
      ]
    },
    {
      "cell_type": "code",
      "source": [
        "print(len(sentences[1].split()))"
      ],
      "metadata": {
        "colab": {
          "base_uri": "https://localhost:8080/"
        },
        "id": "TrI0wOZFx3I_",
        "outputId": "860c018f-020c-4720-f7a0-69ed47e89aa0"
      },
      "execution_count": 12,
      "outputs": [
        {
          "output_type": "stream",
          "name": "stdout",
          "text": [
            "209\n"
          ]
        }
      ]
    },
    {
      "cell_type": "code",
      "source": [
        "len(labels),labels[:5]"
      ],
      "metadata": {
        "colab": {
          "base_uri": "https://localhost:8080/"
        },
        "id": "eAPxKb-Wx_Lm",
        "outputId": "00ca3316-5d96-4d38-f1b2-5f0fde04fbc7"
      },
      "execution_count": 13,
      "outputs": [
        {
          "output_type": "execute_result",
          "data": {
            "text/plain": [
              "(1490, ['business', 'business', 'business', 'tech', 'business'])"
            ]
          },
          "metadata": {},
          "execution_count": 13
        }
      ]
    },
    {
      "cell_type": "code",
      "source": [
        "def fit_tokenizer(sentences):\n",
        "  tokenizer = Tokenizer(oov_token='')\n",
        "  tokenizer.fit_on_texts(sentences)\n",
        "  return tokenizer"
      ],
      "metadata": {
        "id": "HrS_5508yi8h"
      },
      "execution_count": 14,
      "outputs": []
    },
    {
      "cell_type": "code",
      "source": [
        "tokenizer = fit_tokenizer(sentences)\n",
        "word_index = tokenizer.word_index\n",
        "print(f\"Vocabulary contains {len(word_index)} words\\n\")\n",
        "print(\" token included in vocabulary\" if \"\" in word_index else \" token NOT included in vocabulary\")\n"
      ],
      "metadata": {
        "colab": {
          "base_uri": "https://localhost:8080/"
        },
        "id": "kf60GUEd0yVH",
        "outputId": "c8066813-9061-4a90-ee87-380d27bc028b"
      },
      "execution_count": 15,
      "outputs": [
        {
          "output_type": "stream",
          "name": "stdout",
          "text": [
            "Vocabulary contains 24963 words\n",
            "\n",
            " token included in vocabulary\n"
          ]
        }
      ]
    },
    {
      "cell_type": "code",
      "source": [
        "def get_padded_sequences(tokenizer, sentences):\n",
        "  sequences = tokenizer.texts_to_sequences(sentences)\n",
        "  padded_sequences = pad_sequences(sequences, padding='post')\n",
        "  return padded_sequences"
      ],
      "metadata": {
        "id": "c5QynDYK1qzx"
      },
      "execution_count": 19,
      "outputs": []
    },
    {
      "cell_type": "code",
      "source": [
        "padded_sequences = get_padded_sequences(tokenizer, sentences)\n",
        "print(f\"First padded sequence looks like this: \\n\\n{padded_sequences[0]}\\n\")\n",
        "print(f\"Numpy array of all sequences has shape: {padded_sequences.shape}\\n\")\n",
        "print(f\"This means there are {padded_sequences.shape[0]} sequences in total and each one has a size of {padded_sequences.shape[1]}\")\n"
      ],
      "metadata": {
        "colab": {
          "base_uri": "https://localhost:8080/"
        },
        "id": "N4OoBOxh3tHd",
        "outputId": "7ab2e55f-db1c-4c86-97d0-a287627df094"
      },
      "execution_count": 20,
      "outputs": [
        {
          "output_type": "stream",
          "name": "stdout",
          "text": [
            "First padded sequence looks like this: \n",
            "\n",
            "[1322 1180  592 ...    0    0    0]\n",
            "\n",
            "Numpy array of all sequences has shape: (1490, 1881)\n",
            "\n",
            "This means there are 1490 sequences in total and each one has a size of 1881\n"
          ]
        }
      ]
    },
    {
      "cell_type": "code",
      "source": [
        "def tokenize_labels(labels):\n",
        "  label_tokenizer = Tokenizer()\n",
        "  label_tokenizer.fit_on_texts(labels)\n",
        "  label_word_index = label_tokenizer.word_index\n",
        "  label_sequences = label_tokenizer.texts_to_sequences(labels)\n",
        "  return label_sequences, label_word_index\n",
        "  "
      ],
      "metadata": {
        "id": "oTONcoX25E9S"
      },
      "execution_count": 22,
      "outputs": []
    },
    {
      "cell_type": "code",
      "source": [
        "label_sequences, label_word_index = tokenize_labels(labels)\n",
        "print(f\"Vocabulary of labels looks like this {label_word_index}\\n\")\n",
        "print(f\"First ten sequences {label_sequences[:10]}\\n\")"
      ],
      "metadata": {
        "colab": {
          "base_uri": "https://localhost:8080/"
        },
        "id": "nTlQzClDA_uo",
        "outputId": "7f786e3a-9496-41bb-b994-45fe88657e71"
      },
      "execution_count": 23,
      "outputs": [
        {
          "output_type": "stream",
          "name": "stdout",
          "text": [
            "Vocabulary of labels looks like this {'sport': 1, 'business': 2, 'politics': 3, 'entertainment': 4, 'tech': 5}\n",
            "\n",
            "First ten sequences [[2], [2], [2], [5], [2], [3], [1], [4], [2], [4]]\n",
            "\n"
          ]
        }
      ]
    },
    {
      "cell_type": "code",
      "source": [],
      "metadata": {
        "id": "0P3qIKV5Da79"
      },
      "execution_count": null,
      "outputs": []
    }
  ]
}