{
  "cells": [
    {
      "cell_type": "markdown",
      "source": [
        "### Subword Tokenization with the IMDB Reviews Dataset"
      ],
      "metadata": {
        "id": "NBU0FT8dLhO0"
      }
    },
    {
      "cell_type": "code",
      "execution_count": 1,
      "metadata": {
        "colab": {
          "base_uri": "https://localhost:8080/"
        },
        "id": "kajfQ_kPOc4P",
        "outputId": "b8bc7277-f7b0-480a-fdda-1511aa46a97d"
      },
      "outputs": [
        {
          "output_type": "stream",
          "name": "stdout",
          "text": [
            "2.12.0\n"
          ]
        }
      ],
      "source": [
        "import tensorflow as tf\n",
        "print(tf.__version__)"
      ]
    },
    {
      "cell_type": "markdown",
      "source": [
        "### Download the IMDB reviews plain text and tokenized datasets"
      ],
      "metadata": {
        "id": "xScrjoiCLm7c"
      }
    },
    {
      "cell_type": "code",
      "execution_count": 5,
      "metadata": {
        "colab": {
          "base_uri": "https://localhost:8080/"
        },
        "id": "bwY7pEKhPeBH",
        "outputId": "1d015579-25f4-4608-e9b4-d2b9df198578"
      },
      "outputs": [
        {
          "output_type": "stream",
          "name": "stderr",
          "text": [
            "WARNING:absl:TFDS datasets with text encoding are deprecated and will be removed in a future version. Instead, you should use the plain text version and tokenize the text using `tensorflow_text` (See: https://www.tensorflow.org/tutorials/tensorflow_text/intro#tfdata_example)\n"
          ]
        }
      ],
      "source": [
        "import tensorflow_datasets as tfds\n",
        "\n",
        "imdb_plaintext, info_plaintext = tfds.load(\"imdb_reviews\", with_info=True, as_supervised=True)\n",
        "imdb_subwords, info_subwords = tfds.load(\"imdb_reviews/subwords8k\", with_info=True, as_supervised=True)"
      ]
    },
    {
      "cell_type": "markdown",
      "source": [
        "### Compare the two datasets"
      ],
      "metadata": {
        "id": "awjXFQpOP49i"
      }
    },
    {
      "cell_type": "code",
      "execution_count": 6,
      "metadata": {
        "colab": {
          "base_uri": "https://localhost:8080/"
        },
        "id": "buTbdyOgUbJH",
        "outputId": "ea44c079-6d64-4cf7-f11b-abb6a3957f2f"
      },
      "outputs": [
        {
          "output_type": "execute_result",
          "data": {
            "text/plain": [
              "FeaturesDict({\n",
              "    'label': ClassLabel(shape=(), dtype=int64, num_classes=2),\n",
              "    'text': Text(shape=(), dtype=string),\n",
              "})"
            ]
          },
          "metadata": {},
          "execution_count": 6
        }
      ],
      "source": [
        "info_plaintext.features"
      ]
    },
    {
      "cell_type": "code",
      "execution_count": 8,
      "metadata": {
        "colab": {
          "base_uri": "https://localhost:8080/"
        },
        "id": "r2uDwS9ZkjdN",
        "outputId": "e7a9756e-a5d9-4472-95c8-28c5d4a3d5e5"
      },
      "outputs": [
        {
          "output_type": "stream",
          "name": "stdout",
          "text": [
            "b\"This was an absolutely terrible movie. Don't be lured in by Christopher Walken or Michael Ironside. Both are great actors, but this must simply be their worst role in history. Even their great acting could not redeem this movie's ridiculous storyline. This movie is an early nineties US propaganda piece. The most pathetic scenes were those when the Columbian rebels were making their cases for revolutions. Maria Conchita Alonso appeared phony, and her pseudo-love affair with Walken was nothing but a pathetic emotional plug in a movie that was devoid of any real meaning. I am disappointed that there are movies like this, ruining actor's like Christopher Walken's good name. I could barely sit through it.\"\n",
            "b'I have been known to fall asleep during films, but this is usually due to a combination of things including, really tired, being warm and comfortable on the sette and having just eaten a lot. However on this occasion I fell asleep because the film was rubbish. The plot development was constant. Constantly slow and boring. Things seemed to happen, but with no explanation of what was causing them or why. I admit, I may have missed part of the film, but i watched the majority of it and everything just seemed to happen of its own accord without any real concern for anything else. I cant recommend this film at all.'\n",
            "b'Mann photographs the Alberta Rocky Mountains in a superb fashion, and Jimmy Stewart and Walter Brennan give enjoyable performances as they always seem to do. <br /><br />But come on Hollywood - a Mountie telling the people of Dawson City, Yukon to elect themselves a marshal (yes a marshal!) and to enforce the law themselves, then gunfighters battling it out on the streets for control of the town? <br /><br />Nothing even remotely resembling that happened on the Canadian side of the border during the Klondike gold rush. Mr. Mann and company appear to have mistaken Dawson City for Deadwood, the Canadian North for the American Wild West.<br /><br />Canadian viewers be prepared for a Reefer Madness type of enjoyable howl with this ludicrous plot, or, to shake your head in disgust.'\n",
            "b'This is the kind of film for a snowy Sunday afternoon when the rest of the world can go ahead with its own business as you descend into a big arm-chair and mellow for a couple of hours. Wonderful performances from Cher and Nicolas Cage (as always) gently row the plot along. There are no rapids to cross, no dangerous waters, just a warm and witty paddle through New York life at its best. A family film in every sense and one that deserves the praise it received.'\n",
            "b'As others have mentioned, all the women that go nude in this film are mostly absolutely gorgeous. The plot very ably shows the hypocrisy of the female libido. When men are around they want to be pursued, but when no \"men\" are around, they become the pursuers of a 14 year old boy. And the boy becomes a man really fast (we should all be so lucky at this age!). He then gets up the courage to pursue his true love.'\n"
          ]
        }
      ],
      "source": [
        "for example in imdb_plaintext['train'].take(5):\n",
        "  print(example[0].numpy())"
      ]
    },
    {
      "cell_type": "code",
      "execution_count": 9,
      "metadata": {
        "colab": {
          "base_uri": "https://localhost:8080/"
        },
        "id": "8U53qmeUyw5b",
        "outputId": "a93cb9b4-9faf-4c24-f605-06d97fbbe66f"
      },
      "outputs": [
        {
          "output_type": "execute_result",
          "data": {
            "text/plain": [
              "FeaturesDict({\n",
              "    'label': ClassLabel(shape=(), dtype=int64, num_classes=2),\n",
              "    'text': Text(shape=(None,), dtype=int64, encoder=<SubwordTextEncoder vocab_size=8185>),\n",
              "})"
            ]
          },
          "metadata": {},
          "execution_count": 9
        }
      ],
      "source": [
        "info_subwords.features"
      ]
    },
    {
      "cell_type": "code",
      "source": [
        "for example in imdb_subwords['train'].take(2):\n",
        "  print(example)"
      ],
      "metadata": {
        "id": "Cbm6H1PPGmmP",
        "colab": {
          "base_uri": "https://localhost:8080/"
        },
        "outputId": "cbcdb624-6fbb-4a42-ee9c-11347d5a2ee6"
      },
      "execution_count": 10,
      "outputs": [
        {
          "output_type": "stream",
          "name": "stdout",
          "text": [
            "(<tf.Tensor: shape=(163,), dtype=int64, numpy=\n",
            "array([  62,   18,   41,  604,  927,   65,    3,  644, 7968,   21,   35,\n",
            "       5096,   36,   11,   43, 2948, 5240,  102,   50,  681, 7862, 1244,\n",
            "          3, 3266,   29,  122,  640,    2,   26,   14,  279,  438,   35,\n",
            "         79,  349,  384,   11, 1991,    3,  492,   79,  122,  188,  117,\n",
            "         33, 4047, 4531,   14,   65, 7968,    8, 1819, 3947,    3,   62,\n",
            "         27,    9,   41,  577, 5044, 2629, 2552, 7193, 7961, 3642,    3,\n",
            "         19,  107, 3903,  225,   85,  198,   72,    1, 1512,  738, 2347,\n",
            "        102, 6245,    8,   85,  308,   79, 6936, 7961,   23, 4981, 8044,\n",
            "          3, 6429, 7961, 1141, 1335, 1848, 4848,   55, 3601, 4217, 8050,\n",
            "          2,    5,   59, 3831, 1484, 8040, 7974,  174, 5773,   22, 5240,\n",
            "        102,   18,  247,   26,    4, 3903, 1612, 3902,  291,   11,    4,\n",
            "         27,   13,   18, 4092, 4008, 7961,    6,  119,  213, 2774,    3,\n",
            "         12,  258, 2306,   13,   91,   29,  171,   52,  229,    2, 1245,\n",
            "       5790,  995, 7968,    8,   52, 2948, 5240, 8039, 7968,    8,   74,\n",
            "       1249,    3,   12,  117, 2438, 1369,  192,   39, 7975])>, <tf.Tensor: shape=(), dtype=int64, numpy=0>)\n",
            "(<tf.Tensor: shape=(142,), dtype=int64, numpy=\n",
            "array([  12,   31,   93,  867,    7, 1256, 6585, 7961,  421,  365,    2,\n",
            "         26,   14,    9,  988, 1089,    7,    4, 6728,    6,  276, 5760,\n",
            "       2587,    2,   81, 6118, 8029,    2,  139, 1892, 7961,    5, 5402,\n",
            "        246,   25,    1, 1771,  350,    5,  369,   56, 5397,  102,    4,\n",
            "       2547,    3, 4001,   25,   14, 7822,  209,   12, 3531, 6585, 7961,\n",
            "         99,    1,   32,   18, 4762,    3,   19,  184, 3223,   18, 5855,\n",
            "       1045,    3, 4232, 3337,   64, 1347,    5, 1190,    3, 4459,    8,\n",
            "        614,    7, 3129,    2,   26,   22,   84, 7020,    6,   71,   18,\n",
            "       4924, 1160,  161,   50, 2265,    3,   12, 3983,    2,   12,  264,\n",
            "         31, 2545,  261,    6,    1,   66,    2,   26,  131,  393,    1,\n",
            "       5846,    6,   15,    5,  473,   56,  614,    7, 1470,    6,  116,\n",
            "        285, 4755, 2088, 7961,  273,  119,  213, 3414, 7961,   23,  332,\n",
            "       1019,    3,   12, 7667,  505,   14,   32,   44,  208, 7975])>, <tf.Tensor: shape=(), dtype=int64, numpy=0>)\n"
          ]
        }
      ]
    },
    {
      "cell_type": "code",
      "source": [
        "tokenizer_subwords = info_subwords.features['text'].encoder\n",
        "\n",
        "for example in imdb_subwords['train'].take(2):\n",
        "  print(tokenizer_subwords.decode(example[0]))"
      ],
      "metadata": {
        "id": "_aVa-Nz8R2dI",
        "outputId": "6c6518c4-8afb-4b2b-8221-98b2f7397799",
        "colab": {
          "base_uri": "https://localhost:8080/"
        }
      },
      "execution_count": 16,
      "outputs": [
        {
          "output_type": "stream",
          "name": "stdout",
          "text": [
            "This was an absolutely terrible movie. Don't be lured in by Christopher Walken or Michael Ironside. Both are great actors, but this must simply be their worst role in history. Even their great acting could not redeem this movie's ridiculous storyline. This movie is an early nineties US propaganda piece. The most pathetic scenes were those when the Columbian rebels were making their cases for revolutions. Maria Conchita Alonso appeared phony, and her pseudo-love affair with Walken was nothing but a pathetic emotional plug in a movie that was devoid of any real meaning. I am disappointed that there are movies like this, ruining actor's like Christopher Walken's good name. I could barely sit through it.\n",
            "I have been known to fall asleep during films, but this is usually due to a combination of things including, really tired, being warm and comfortable on the sette and having just eaten a lot. However on this occasion I fell asleep because the film was rubbish. The plot development was constant. Constantly slow and boring. Things seemed to happen, but with no explanation of what was causing them or why. I admit, I may have missed part of the film, but i watched the majority of it and everything just seemed to happen of its own accord without any real concern for anything else. I cant recommend this film at all.\n"
          ]
        }
      ]
    },
    {
      "cell_type": "markdown",
      "source": [
        "### Subword Text Encoding"
      ],
      "metadata": {
        "id": "tjRLSfp9UHoq"
      }
    },
    {
      "cell_type": "code",
      "source": [
        "train_data = imdb_plaintext['train']\n",
        "training_sentences = []\n",
        "\n",
        "for s,_ in train_data:\n",
        "  training_sentences.append(s.numpy().decode('utf8'))\n"
      ],
      "metadata": {
        "id": "CwGdHziVTEU5"
      },
      "execution_count": 20,
      "outputs": []
    },
    {
      "cell_type": "code",
      "source": [],
      "metadata": {
        "id": "QnkuY0nrTZjj"
      },
      "execution_count": null,
      "outputs": []
    }
  ],
  "metadata": {
    "colab": {
      "provenance": []
    },
    "kernelspec": {
      "display_name": "Python 3",
      "name": "python3"
    },
    "language_info": {
      "name": "python"
    },
    "accelerator": "GPU",
    "gpuClass": "standard"
  },
  "nbformat": 4,
  "nbformat_minor": 0
}