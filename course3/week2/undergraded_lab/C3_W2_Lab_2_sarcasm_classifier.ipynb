{
  "nbformat": 4,
  "nbformat_minor": 0,
  "metadata": {
    "colab": {
      "provenance": []
    },
    "kernelspec": {
      "name": "python3",
      "display_name": "Python 3"
    },
    "language_info": {
      "name": "python"
    }
  },
  "cells": [
    {
      "cell_type": "markdown",
      "source": [
        "### Download the dataset"
      ],
      "metadata": {
        "id": "Gl-3i_0-t-F0"
      }
    },
    {
      "cell_type": "code",
      "source": [
        "!wget https://storage.googleapis.com/tensorflow-1-public/course3/sarcasm.json"
      ],
      "metadata": {
        "colab": {
          "base_uri": "https://localhost:8080/"
        },
        "id": "XpIBcQ1Ltv7c",
        "outputId": "c8320197-9c5b-4c6c-939a-9acc81d0fa5d"
      },
      "execution_count": 1,
      "outputs": [
        {
          "output_type": "stream",
          "name": "stdout",
          "text": [
            "--2023-04-18 05:43:44--  https://storage.googleapis.com/tensorflow-1-public/course3/sarcasm.json\n",
            "Resolving storage.googleapis.com (storage.googleapis.com)... 108.177.97.128, 142.250.157.128, 142.251.8.128, ...\n",
            "Connecting to storage.googleapis.com (storage.googleapis.com)|108.177.97.128|:443... connected.\n",
            "HTTP request sent, awaiting response... 200 OK\n",
            "Length: 5643545 (5.4M) [application/json]\n",
            "Saving to: ‘sarcasm.json’\n",
            "\n",
            "sarcasm.json        100%[===================>]   5.38M  6.72MB/s    in 0.8s    \n",
            "\n",
            "2023-04-18 05:43:45 (6.72 MB/s) - ‘sarcasm.json’ saved [5643545/5643545]\n",
            "\n"
          ]
        }
      ]
    },
    {
      "cell_type": "code",
      "source": [
        "import json\n",
        "\n",
        "with open('sarcasm.json', 'r') as f:\n",
        "  datastore = json.load(f)\n",
        "\n",
        "sentences = []\n",
        "labels = []\n",
        "for item in datastore:\n",
        "  sentences.append(item['headline'])\n",
        "  labels.append(item['is_sarcastic'])"
      ],
      "metadata": {
        "id": "vgzjeuT3uIwA"
      },
      "execution_count": 2,
      "outputs": []
    },
    {
      "cell_type": "markdown",
      "source": [
        "### Hyperparameters"
      ],
      "metadata": {
        "id": "jYa2gJZqsRHR"
      }
    },
    {
      "cell_type": "code",
      "source": [
        "training_size = 20000\n",
        "vocab_size = 10000\n",
        "max_length = 32\n",
        "embedding_dim = 16"
      ],
      "metadata": {
        "id": "u2ee2ZtRsae5"
      },
      "execution_count": 3,
      "outputs": []
    },
    {
      "cell_type": "markdown",
      "source": [
        "### Split the dataset"
      ],
      "metadata": {
        "id": "JJy_Q02ww2-Q"
      }
    },
    {
      "cell_type": "code",
      "source": [
        "training_sentences = sentences[0:training_size]\n",
        "testing_sentences = sentences[training_size:]\n",
        "\n",
        "training_labels = labels[0:training_size]\n",
        "testing_labels = labels[training_size:]"
      ],
      "metadata": {
        "id": "B6v7M1VcvbYs"
      },
      "execution_count": 4,
      "outputs": []
    },
    {
      "cell_type": "markdown",
      "source": [
        "### Preprocessing the train and test sets"
      ],
      "metadata": {
        "id": "cWxJfbWMzako"
      }
    },
    {
      "cell_type": "code",
      "source": [
        "import numpy as np\n",
        "from tensorflow.keras.preprocessing.text import Tokenizer\n",
        "from tensorflow.keras.preprocessing.sequence import pad_sequences\n",
        "\n",
        "oov_tok = '<OOV>'\n",
        "trunc_type = 'post'\n",
        "padding_type = 'post'\n",
        "\n",
        "tokenizer = Tokenizer(num_words=vocab_size, oov_token=oov_tok)\n",
        "tokenizer.fit_on_texts(training_sentences)\n",
        "word_index = tokenizer.word_index\n",
        "\n",
        "training_sequences = tokenizer.texts_to_sequences(training_sentences)\n",
        "training_padded = pad_sequences(training_sequences, maxlen=max_length, padding=padding_type, truncating=trunc_type)\n",
        "\n",
        "testing_sequences = tokenizer.texts_to_sequences(testing_sentences)\n",
        "testing_padded = pad_sequences(testing_sequences, maxlen=max_length, padding=padding_type, truncating=trunc_type)\n",
        "\n",
        "training_labels = np.array(training_labels)\n",
        "testing_labels = np.array(testing_labels)"
      ],
      "metadata": {
        "id": "rP8NXKvKzPvn"
      },
      "execution_count": 5,
      "outputs": []
    },
    {
      "cell_type": "code",
      "source": [
        "testing_labels[5]"
      ],
      "metadata": {
        "colab": {
          "base_uri": "https://localhost:8080/"
        },
        "id": "1QRhfEYZFSn4",
        "outputId": "63f2bd70-961d-442d-e4ba-8736d4ce353f"
      },
      "execution_count": 24,
      "outputs": [
        {
          "output_type": "execute_result",
          "data": {
            "text/plain": [
              "1"
            ]
          },
          "metadata": {},
          "execution_count": 24
        }
      ]
    },
    {
      "cell_type": "code",
      "source": [
        "# find the longest sentence\n",
        "i = []\n",
        "for item in testing_sentences:\n",
        "  i.append(len(item))\n",
        "\n",
        "max(i)"
      ],
      "metadata": {
        "colab": {
          "base_uri": "https://localhost:8080/"
        },
        "id": "jgA8FL3z5Sqo",
        "outputId": "799b43f2-0fbe-453a-c610-0ec6a8ca9539"
      },
      "execution_count": 6,
      "outputs": [
        {
          "output_type": "execute_result",
          "data": {
            "text/plain": [
              "228"
            ]
          },
          "metadata": {},
          "execution_count": 6
        }
      ]
    },
    {
      "cell_type": "markdown",
      "source": [
        "### Build and Compile the Model"
      ],
      "metadata": {
        "id": "1ukhK7P32Jkc"
      }
    },
    {
      "cell_type": "code",
      "source": [
        "import tensorflow as tf\n",
        "\n",
        "gap1d_layer = tf.keras.layers.GlobalAveragePooling1D()\n",
        "\n",
        "sample_array = np.array([[[10,2],[1,3],[1,1]]])\n",
        "print(f'shape of sample_array = {sample_array.shape}')\n",
        "print(f'sample array: {sample_array}')\n",
        "\n",
        "output = gap1d_layer(sample_array)\n",
        "print(f'output shape of gap1d_layer: {output.shape}')\n",
        "print(f'output array of gap1d_layer: {output.numpy()}')"
      ],
      "metadata": {
        "colab": {
          "base_uri": "https://localhost:8080/"
        },
        "id": "CDLGU_1n0bD8",
        "outputId": "84feaf87-3dbe-4066-c81c-38605be91197"
      },
      "execution_count": 7,
      "outputs": [
        {
          "output_type": "stream",
          "name": "stdout",
          "text": [
            "shape of sample_array = (1, 3, 2)\n",
            "sample array: [[[10  2]\n",
            "  [ 1  3]\n",
            "  [ 1  1]]]\n",
            "output shape of gap1d_layer: (1, 2)\n",
            "output array of gap1d_layer: [[4 2]]\n"
          ]
        }
      ]
    },
    {
      "cell_type": "code",
      "source": [
        "model = tf.keras.Sequential([\n",
        "    tf.keras.layers.Embedding(vocab_size, embedding_dim, input_length=max_length),\n",
        "    tf.keras.layers.GlobalAveragePooling1D(),\n",
        "    tf.keras.layers.Dense(24, activation='relu'),\n",
        "    tf.keras.layers.Dense(1, activation='sigmoid')\n",
        "])\n",
        "model.summary()"
      ],
      "metadata": {
        "colab": {
          "base_uri": "https://localhost:8080/"
        },
        "id": "uclUGHiy34XE",
        "outputId": "a7f3614b-de38-44f9-ab16-5b26ba3d85f1"
      },
      "execution_count": 8,
      "outputs": [
        {
          "output_type": "stream",
          "name": "stdout",
          "text": [
            "Model: \"sequential\"\n",
            "_________________________________________________________________\n",
            " Layer (type)                Output Shape              Param #   \n",
            "=================================================================\n",
            " embedding (Embedding)       (None, 32, 16)            160000    \n",
            "                                                                 \n",
            " global_average_pooling1d_1   (None, 16)               0         \n",
            " (GlobalAveragePooling1D)                                        \n",
            "                                                                 \n",
            " dense (Dense)               (None, 24)                408       \n",
            "                                                                 \n",
            " dense_1 (Dense)             (None, 1)                 25        \n",
            "                                                                 \n",
            "=================================================================\n",
            "Total params: 160,433\n",
            "Trainable params: 160,433\n",
            "Non-trainable params: 0\n",
            "_________________________________________________________________\n"
          ]
        }
      ]
    },
    {
      "cell_type": "code",
      "source": [
        "model.compile(loss='binary_crossentropy', optimizer='adam', metrics=['accuracy'])"
      ],
      "metadata": {
        "id": "XMhPiroc7DkG"
      },
      "execution_count": 9,
      "outputs": []
    },
    {
      "cell_type": "markdown",
      "source": [
        "### Train the Model"
      ],
      "metadata": {
        "id": "TAhjnZtd8t5q"
      }
    },
    {
      "cell_type": "code",
      "source": [
        "num_epochs = 30\n",
        "history = model.fit(training_padded, training_labels, epochs=num_epochs, validation_data=(testing_padded, testing_labels), verbose=2)"
      ],
      "metadata": {
        "id": "lFwVdwDN8tZ7",
        "colab": {
          "base_uri": "https://localhost:8080/"
        },
        "outputId": "e5a69d42-983d-4f88-8151-728ed294aa98"
      },
      "execution_count": 10,
      "outputs": [
        {
          "output_type": "stream",
          "name": "stdout",
          "text": [
            "Epoch 1/30\n",
            "625/625 - 3s - loss: 0.5660 - accuracy: 0.6975 - val_loss: 0.4069 - val_accuracy: 0.8302 - 3s/epoch - 5ms/step\n",
            "Epoch 2/30\n",
            "625/625 - 2s - loss: 0.3147 - accuracy: 0.8756 - val_loss: 0.3534 - val_accuracy: 0.8457 - 2s/epoch - 4ms/step\n",
            "Epoch 3/30\n",
            "625/625 - 2s - loss: 0.2345 - accuracy: 0.9079 - val_loss: 0.3491 - val_accuracy: 0.8551 - 2s/epoch - 3ms/step\n",
            "Epoch 4/30\n",
            "625/625 - 3s - loss: 0.1885 - accuracy: 0.9276 - val_loss: 0.3706 - val_accuracy: 0.8506 - 3s/epoch - 5ms/step\n",
            "Epoch 5/30\n",
            "625/625 - 2s - loss: 0.1558 - accuracy: 0.9416 - val_loss: 0.4257 - val_accuracy: 0.8375 - 2s/epoch - 3ms/step\n",
            "Epoch 6/30\n",
            "625/625 - 2s - loss: 0.1315 - accuracy: 0.9524 - val_loss: 0.4293 - val_accuracy: 0.8483 - 2s/epoch - 3ms/step\n",
            "Epoch 7/30\n",
            "625/625 - 2s - loss: 0.1111 - accuracy: 0.9628 - val_loss: 0.4732 - val_accuracy: 0.8435 - 2s/epoch - 4ms/step\n",
            "Epoch 8/30\n",
            "625/625 - 2s - loss: 0.0969 - accuracy: 0.9673 - val_loss: 0.5538 - val_accuracy: 0.8331 - 2s/epoch - 3ms/step\n",
            "Epoch 9/30\n",
            "625/625 - 3s - loss: 0.0832 - accuracy: 0.9728 - val_loss: 0.5776 - val_accuracy: 0.8340 - 3s/epoch - 4ms/step\n",
            "Epoch 10/30\n",
            "625/625 - 3s - loss: 0.0717 - accuracy: 0.9775 - val_loss: 0.6374 - val_accuracy: 0.8305 - 3s/epoch - 4ms/step\n",
            "Epoch 11/30\n",
            "625/625 - 2s - loss: 0.0629 - accuracy: 0.9795 - val_loss: 0.6865 - val_accuracy: 0.8247 - 2s/epoch - 4ms/step\n",
            "Epoch 12/30\n",
            "625/625 - 2s - loss: 0.0538 - accuracy: 0.9838 - val_loss: 0.7458 - val_accuracy: 0.8252 - 2s/epoch - 4ms/step\n",
            "Epoch 13/30\n",
            "625/625 - 3s - loss: 0.0470 - accuracy: 0.9854 - val_loss: 0.8139 - val_accuracy: 0.8222 - 3s/epoch - 4ms/step\n",
            "Epoch 14/30\n",
            "625/625 - 3s - loss: 0.0416 - accuracy: 0.9874 - val_loss: 0.8682 - val_accuracy: 0.8182 - 3s/epoch - 5ms/step\n",
            "Epoch 15/30\n",
            "625/625 - 3s - loss: 0.0366 - accuracy: 0.9898 - val_loss: 0.9552 - val_accuracy: 0.8159 - 3s/epoch - 5ms/step\n",
            "Epoch 16/30\n",
            "625/625 - 3s - loss: 0.0314 - accuracy: 0.9912 - val_loss: 0.9837 - val_accuracy: 0.8141 - 3s/epoch - 5ms/step\n",
            "Epoch 17/30\n",
            "625/625 - 3s - loss: 0.0279 - accuracy: 0.9924 - val_loss: 1.1055 - val_accuracy: 0.8117 - 3s/epoch - 4ms/step\n",
            "Epoch 18/30\n",
            "625/625 - 3s - loss: 0.0242 - accuracy: 0.9930 - val_loss: 1.1213 - val_accuracy: 0.8092 - 3s/epoch - 4ms/step\n",
            "Epoch 19/30\n",
            "625/625 - 3s - loss: 0.0213 - accuracy: 0.9945 - val_loss: 1.2529 - val_accuracy: 0.8082 - 3s/epoch - 5ms/step\n",
            "Epoch 20/30\n",
            "625/625 - 2s - loss: 0.0190 - accuracy: 0.9950 - val_loss: 1.2915 - val_accuracy: 0.8113 - 2s/epoch - 4ms/step\n",
            "Epoch 21/30\n",
            "625/625 - 2s - loss: 0.0187 - accuracy: 0.9945 - val_loss: 1.3127 - val_accuracy: 0.8094 - 2s/epoch - 4ms/step\n",
            "Epoch 22/30\n",
            "625/625 - 2s - loss: 0.0159 - accuracy: 0.9955 - val_loss: 1.4492 - val_accuracy: 0.8073 - 2s/epoch - 3ms/step\n",
            "Epoch 23/30\n",
            "625/625 - 4s - loss: 0.0150 - accuracy: 0.9960 - val_loss: 1.4539 - val_accuracy: 0.8070 - 4s/epoch - 6ms/step\n",
            "Epoch 24/30\n",
            "625/625 - 3s - loss: 0.0125 - accuracy: 0.9965 - val_loss: 1.5535 - val_accuracy: 0.8043 - 3s/epoch - 5ms/step\n",
            "Epoch 25/30\n",
            "625/625 - 2s - loss: 0.0109 - accuracy: 0.9974 - val_loss: 1.7247 - val_accuracy: 0.8025 - 2s/epoch - 3ms/step\n",
            "Epoch 26/30\n",
            "625/625 - 2s - loss: 0.0100 - accuracy: 0.9978 - val_loss: 1.6697 - val_accuracy: 0.8041 - 2s/epoch - 4ms/step\n",
            "Epoch 27/30\n",
            "625/625 - 2s - loss: 0.0100 - accuracy: 0.9976 - val_loss: 1.6742 - val_accuracy: 0.8031 - 2s/epoch - 4ms/step\n",
            "Epoch 28/30\n",
            "625/625 - 3s - loss: 0.0105 - accuracy: 0.9972 - val_loss: 1.8286 - val_accuracy: 0.8038 - 3s/epoch - 4ms/step\n",
            "Epoch 29/30\n",
            "625/625 - 3s - loss: 0.0086 - accuracy: 0.9980 - val_loss: 1.8311 - val_accuracy: 0.8076 - 3s/epoch - 4ms/step\n",
            "Epoch 30/30\n",
            "625/625 - 2s - loss: 0.0086 - accuracy: 0.9976 - val_loss: 1.8607 - val_accuracy: 0.8046 - 2s/epoch - 4ms/step\n"
          ]
        }
      ]
    },
    {
      "cell_type": "code",
      "source": [
        "model.save('my_model.h5')"
      ],
      "metadata": {
        "id": "nUFL6k9AC-_T"
      },
      "execution_count": 12,
      "outputs": []
    },
    {
      "cell_type": "markdown",
      "source": [
        "### Visualize the Results"
      ],
      "metadata": {
        "id": "yXx-ow9s96VA"
      }
    },
    {
      "cell_type": "code",
      "source": [
        "new_model = tf.keras.models.load_model('my_model.h5')\n",
        "answer = new_model(testing_padded[1:2, :])\n"
      ],
      "metadata": {
        "id": "Nx0u-B1e8omx"
      },
      "execution_count": 50,
      "outputs": []
    },
    {
      "cell_type": "markdown",
      "source": [
        "### Visualize Word Embeddings"
      ],
      "metadata": {
        "id": "PeNn9H9VBGAQ"
      }
    },
    {
      "cell_type": "code",
      "source": [
        "import matplotlib.pyplot as plt\n",
        "\n",
        "def plot_graph(history, string):\n",
        "  plt.plot(history.history[string])\n",
        "  plt.plot(history.history['val_'+string])\n",
        "  plt.xlabel('Epochs')\n",
        "  plt.ylabel(string)\n",
        "  plt.legend([string, 'val_'+string])\n",
        "  plt.show()\n",
        "\n",
        "plot_graph(history, 'accuracy')\n",
        "plot_graph(history, 'loss')"
      ],
      "metadata": {
        "id": "mAMubv7HAZHr",
        "colab": {
          "base_uri": "https://localhost:8080/",
          "height": 881
        },
        "outputId": "0a900d40-877d-4264-c188-07573ea86ed6"
      },
      "execution_count": 30,
      "outputs": [
        {
          "output_type": "display_data",
          "data": {
            "text/plain": [
              "<Figure size 640x480 with 1 Axes>"
            ],
            "image/png": "[encoded data removed]"
          },
          "metadata": {}
        },
        {
          "output_type": "display_data",
          "data": {
            "text/plain": [
              "<Figure size 640x480 with 1 Axes>"
            ],
            "image/png": "[encoded data removed]"
          },
          "metadata": {}
        }
      ]
    },
    {
      "cell_type": "code",
      "source": [
        "history.history['accuracy']"
      ],
      "metadata": {
        "id": "IwI-AYfV7BUI",
        "colab": {
          "base_uri": "https://localhost:8080/"
        },
        "outputId": "b4058bba-d8be-4a9b-cafc-3d4cecbc0d48"
      },
      "execution_count": 29,
      "outputs": [
        {
          "output_type": "execute_result",
          "data": {
            "text/plain": [
              "[0.6975499987602234,\n",
              " 0.8756499886512756,\n",
              " 0.9078999757766724,\n",
              " 0.9276000261306763,\n",
              " 0.9416000247001648,\n",
              " 0.9524000287055969,\n",
              " 0.9628499746322632,\n",
              " 0.9672999978065491,\n",
              " 0.9728000164031982,\n",
              " 0.9774500131607056,\n",
              " 0.9794999957084656,\n",
              " 0.9837999939918518,\n",
              " 0.9854000210762024,\n",
              " 0.9873999953269958,\n",
              " 0.989799976348877,\n",
              " 0.9911500215530396,\n",
              " 0.9924499988555908,\n",
              " 0.9929500222206116,\n",
              " 0.9945499897003174,\n",
              " 0.9950000047683716,\n",
              " 0.9945499897003174,\n",
              " 0.9955499768257141,\n",
              " 0.9959999918937683,\n",
              " 0.9965000152587891,\n",
              " 0.9974499940872192,\n",
              " 0.9977999925613403,\n",
              " 0.9975500106811523,\n",
              " 0.9972000122070312,\n",
              " 0.99795001745224,\n",
              " 0.9976000189781189]"
            ]
          },
          "metadata": {},
          "execution_count": 29
        }
      ]
    },
    {
      "cell_type": "markdown",
      "source": [
        "### Visualize Word Embeddings"
      ],
      "metadata": {
        "id": "vH8QxQyvPXx_"
      }
    },
    {
      "cell_type": "code",
      "source": [
        "reverse_word_index = tokenizer.index_word\n",
        "\n",
        "embedding_layer = model.layers[0]\n",
        "\n",
        "embedding_weights = embedding_layer.get_weights()\n",
        "\n",
        "print((embedding_layer.input_length)) "
      ],
      "metadata": {
        "colab": {
          "base_uri": "https://localhost:8080/"
        },
        "id": "PGe7nxJhPUT_",
        "outputId": "ba30b575-1418-446a-998a-d9605586c663"
      },
      "execution_count": 38,
      "outputs": [
        {
          "output_type": "stream",
          "name": "stdout",
          "text": [
            "32\n"
          ]
        }
      ]
    },
    {
      "cell_type": "code",
      "source": [
        "a = np.array([[1, 2, 3], [4, 5, 6]])\n",
        "a"
      ],
      "metadata": {
        "id": "d-ZQw0gH7o2W",
        "colab": {
          "base_uri": "https://localhost:8080/"
        },
        "outputId": "86eaabff-19b1-4ea3-b4a4-178f094535f2"
      },
      "execution_count": 41,
      "outputs": [
        {
          "output_type": "execute_result",
          "data": {
            "text/plain": [
              "array([[1, 2, 3],\n",
              "       [4, 5, 6]])"
            ]
          },
          "metadata": {},
          "execution_count": 41
        }
      ]
    },
    {
      "cell_type": "code",
      "source": [
        "a[1, :]"
      ],
      "metadata": {
        "colab": {
          "base_uri": "https://localhost:8080/"
        },
        "id": "KCLk0u16_wdy",
        "outputId": "2b1859d6-1af3-4045-a760-f07e5df2eed9"
      },
      "execution_count": 43,
      "outputs": [
        {
          "output_type": "execute_result",
          "data": {
            "text/plain": [
              "array([4, 5, 6])"
            ]
          },
          "metadata": {},
          "execution_count": 43
        }
      ]
    },
    {
      "cell_type": "code",
      "source": [
        "a.shape"
      ],
      "metadata": {
        "id": "XVhENo3HBpSE",
        "colab": {
          "base_uri": "https://localhost:8080/"
        },
        "outputId": "19f2cd36-907e-4571-dad9-5c78022633a1"
      },
      "execution_count": 45,
      "outputs": [
        {
          "output_type": "execute_result",
          "data": {
            "text/plain": [
              "(2, 3)"
            ]
          },
          "metadata": {},
          "execution_count": 45
        }
      ]
    },
    {
      "cell_type": "code",
      "source": [],
      "metadata": {
        "id": "D_22yzv0RoOi"
      },
      "execution_count": null,
      "outputs": []
    }
  ]
}