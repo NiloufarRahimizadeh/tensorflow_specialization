{
  "cells": [
    {
      "cell_type": "markdown",
      "source": [
        "### Download the dataset"
      ],
      "metadata": {
        "id": "TCNVxpMLJ-jg"
      },
      "id": "TCNVxpMLJ-jg"
    },
    {
      "cell_type": "code",
      "source": [
        "import tensorflow_datasets as tfds\n",
        "dataset, info = tfds.load('imdb_reviews/subwords8k', with_info=True, as_supervised=True)\n",
        "tokenizer = info.features['text'].encoder"
      ],
      "metadata": {
        "colab": {
          "base_uri": "https://localhost:8080/"
        },
        "id": "uACxO6YjJ9Yg",
        "outputId": "da820ff8-4fd6-4e76-8772-db9c9ee8aeec"
      },
      "id": "uACxO6YjJ9Yg",
      "execution_count": 5,
      "outputs": [
        {
          "output_type": "stream",
          "name": "stderr",
          "text": [
            "WARNING:absl:TFDS datasets with text encoding are deprecated and will be removed in a future version. Instead, you should use the plain text version and tokenize the text using `tensorflow_text` (See: https://www.tensorflow.org/tutorials/tensorflow_text/intro#tfdata_example)\n"
          ]
        }
      ]
    },
    {
      "cell_type": "code",
      "execution_count": 1,
      "id": "ae47691d",
      "metadata": {
        "id": "ae47691d"
      },
      "outputs": [],
      "source": [
        "# import keras_nlp\n",
        "# import tensorflow_datasets as tfds\n",
        "\n",
        "# imdb_train, imdb_test = tfds.load(\n",
        "#     \"imdb_reviews\",\n",
        "#     split=[\"train\", \"test\"],\n",
        "#     as_supervised=True,\n",
        "#     batch_size=16,\n",
        "# )\n",
        "# # Load a BERT model.\n",
        "# classifier = keras_nlp.models.BertClassifier.from_preset(\n",
        "#     \"bert_base_en_uncased\", \n",
        "#     num_classes=2,\n",
        "# )\n",
        "# # Fine-tune on IMDb movie reviews.\n",
        "# classifier.fit(imdb_train, validation_data=imdb_test)\n",
        "# # Predict two new examples.\n",
        "# classifier.predict([\"What an amazing movie!\", \"A total waste of my time.\"])"
      ]
    },
    {
      "cell_type": "code",
      "source": [
        "# pip install keras_nlp"
      ],
      "metadata": {
        "id": "2nkzTlgoNMAY"
      },
      "id": "2nkzTlgoNMAY",
      "execution_count": 1,
      "outputs": []
    },
    {
      "cell_type": "markdown",
      "source": [
        "### Prepare the dataset"
      ],
      "metadata": {
        "id": "pIvL0UYMRcgT"
      },
      "id": "pIvL0UYMRcgT"
    },
    {
      "cell_type": "code",
      "source": [
        "BUFFER_SIZE = 10000\n",
        "BATCH_SIZE = 256\n",
        "\n",
        "train_data, test_data = dataset['train'], dataset['test'],\n",
        "train_dataset = train_data.shuffle(BUFFER_SIZE)\n",
        "\n",
        "train_dataset = train_dataset.padded_batch(BATCH_SIZE)\n",
        "test_dataset = test_data.padded_batch(BATCH_SIZE)"
      ],
      "metadata": {
        "id": "cwjNC7HXNVNa"
      },
      "id": "cwjNC7HXNVNa",
      "execution_count": 7,
      "outputs": []
    },
    {
      "cell_type": "markdown",
      "source": [
        "\n",
        "### Build and compile the model"
      ],
      "metadata": {
        "id": "zstXBssDWjPl"
      },
      "id": "zstXBssDWjPl"
    },
    {
      "cell_type": "code",
      "source": [
        "import tensorflow as tf\n",
        "\n",
        "embedding_dim = 64\n",
        "lstm_dim = 64\n",
        "dense_dim = 64\n",
        "\n",
        "model = tf.keras.Sequential([\n",
        "    tf.keras.layers.Embedding(toke)\n",
        "])"
      ],
      "metadata": {
        "id": "PYJdpI_OWgTY"
      },
      "id": "PYJdpI_OWgTY",
      "execution_count": null,
      "outputs": []
    },
    {
      "cell_type": "code",
      "source": [
        "tokenizer.vocab_size"
      ],
      "metadata": {
        "colab": {
          "base_uri": "https://localhost:8080/"
        },
        "id": "Me8hnPwJaaM8",
        "outputId": "cc9e77c8-a50e-4d0f-c76d-ba1f4cd25b18"
      },
      "id": "Me8hnPwJaaM8",
      "execution_count": 8,
      "outputs": [
        {
          "output_type": "execute_result",
          "data": {
            "text/plain": [
              "8185"
            ]
          },
          "metadata": {},
          "execution_count": 8
        }
      ]
    },
    {
      "cell_type": "code",
      "source": [
        "        tf.keras.layers.Embedding(vocab_size+1, embedding_dim, input_length=maxlen, weights=[embeddings_matrix], trainable=False), "
      ],
      "metadata": {
        "id": "k2g-OaCzabAC"
      },
      "id": "k2g-OaCzabAC",
      "execution_count": null,
      "outputs": []
    }
  ],
  "metadata": {
    "kernelspec": {
      "display_name": "tf38",
      "language": "python",
      "name": "tf38"
    },
    "language_info": {
      "codemirror_mode": {
        "name": "ipython",
        "version": 3
      },
      "file_extension": ".py",
      "mimetype": "text/x-python",
      "name": "python",
      "nbconvert_exporter": "python",
      "pygments_lexer": "ipython3",
      "version": "3.8.9"
    },
    "colab": {
      "provenance": []
    }
  },
  "nbformat": 4,
  "nbformat_minor": 5
}