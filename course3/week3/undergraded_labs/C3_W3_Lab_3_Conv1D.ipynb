{
  "cells": [
    {
      "cell_type": "markdown",
      "source": [
        "### Download and prepare the dataset"
      ],
      "metadata": {
        "id": "b153PfcEQBMu"
      },
      "id": "b153PfcEQBMu"
    },
    {
      "cell_type": "code",
      "source": [
        "import tensorflow_datasets as tfds\n",
        "\n",
        "# Download the subword encoded pretokenized dataset\n",
        "dataset, info = tfds.load('imdb_reviews/subwords8k', with_info=True, as_supervised=True)\n",
        "\n",
        "# Get the tokenizer\n",
        "tokenizer = info.features['text'].encoder"
      ],
      "metadata": {
        "colab": {
          "base_uri": "https://localhost:8080/"
        },
        "id": "ypMDMQf3QHxf",
        "outputId": "1d705109-eb28-40b7-b674-080b16d7a4bb"
      },
      "id": "ypMDMQf3QHxf",
      "execution_count": 22,
      "outputs": [
        {
          "output_type": "stream",
          "name": "stderr",
          "text": [
            "WARNING:absl:TFDS datasets with text encoding are deprecated and will be removed in a future version. Instead, you should use the plain text version and tokenize the text using `tensorflow_text` (See: https://www.tensorflow.org/tutorials/tensorflow_text/intro#tfdata_example)\n"
          ]
        }
      ]
    },
    {
      "cell_type": "code",
      "source": [
        "\n",
        "\n",
        "BUFFER_SIZE = 10000\n",
        "BATCH_SIZE = 256\n",
        "\n",
        "# Get the train and test splits\n",
        "train_data, test_data = dataset['train'], dataset['test'], \n",
        "\n",
        "# Shuffle the training data\n",
        "train_dataset = train_data.shuffle(BUFFER_SIZE)\n",
        "\n",
        "# Batch and pad the datasets to the maximum length of the sequences\n",
        "train_dataset = train_dataset.padded_batch(BATCH_SIZE)\n",
        "test_dataset = test_data.padded_batch(BATCH_SIZE)\n",
        "\n"
      ],
      "metadata": {
        "id": "Y1y0UIeMQrPp"
      },
      "id": "Y1y0UIeMQrPp",
      "execution_count": 24,
      "outputs": []
    },
    {
      "cell_type": "markdown",
      "source": [
        "### Build the Model"
      ],
      "metadata": {
        "id": "gSX7EqNEVXb_"
      },
      "id": "gSX7EqNEVXb_"
    },
    {
      "cell_type": "code",
      "source": [
        "import tensorflow as tf \n",
        "import numpy as np\n",
        "\n",
        "batch_size = 1\n",
        "timesteps = 20\n",
        "features = 20\n",
        "filters = 128\n",
        "kernel_size = 5\n",
        "\n",
        "\n",
        "print(f'batch_size: {batch_size}')\n",
        "print(f'timesteps (sequence length): {timesteps}')\n",
        "print(f'features (embedding size): {features}')\n",
        "print(f'filters: {filters}')\n",
        "print(f'kernel_size: {kernel_size}')\n",
        "\n",
        "random_input = np.random.rand(batch_size,timesteps,features)\n",
        "print(f'shape of input array: {random_input.shape}')"
      ],
      "metadata": {
        "colab": {
          "base_uri": "https://localhost:8080/"
        },
        "id": "IJz2YDRjVT0P",
        "outputId": "da1b6ef4-d8c5-494f-d638-1c89333cb939"
      },
      "id": "IJz2YDRjVT0P",
      "execution_count": 14,
      "outputs": [
        {
          "output_type": "stream",
          "name": "stdout",
          "text": [
            "batch_size: 1\n",
            "timesteps (sequence length): 20\n",
            "features (embedding size): 20\n",
            "filters: 128\n",
            "kernel_size: 5\n",
            "shape of input array: (1, 20, 20)\n"
          ]
        }
      ]
    },
    {
      "cell_type": "code",
      "source": [
        "import tensorflow as tf\n",
        "import numpy as np\n",
        "\n",
        "# Hyperparameters\n",
        "batch_size = 1\n",
        "timesteps = 20\n",
        "features = 20\n",
        "filters = 128\n",
        "kernel_size = 5\n",
        "\n",
        "print(f'batch_size: {batch_size}')\n",
        "print(f'timesteps (sequence length): {timesteps}')\n",
        "print(f'features (embedding size): {features}')\n",
        "print(f'filters: {filters}')\n",
        "print(f'kernel_size: {kernel_size}')\n",
        "\n",
        "# Define array input with random values\n",
        "random_input = np.random.rand(batch_size,timesteps,features)\n",
        "print(f'shape of input array: {random_input.shape}')\n",
        "\n",
        "# Pass array to convolution layer and inspect output shape\n",
        "conv1d = tf.keras.layers.Conv1D(filters=filters, kernel_size=kernel_size, activation='relu')\n",
        "result = conv1d(random_input)\n",
        "print(f'shape of conv1d output: {result.shape}')\n",
        "\n",
        "# Pass array to max pooling layer and inspect output shape\n",
        "gmp = tf.keras.layers.GlobalMaxPooling1D()\n",
        "result = gmp(result)\n",
        "print(f'shape of global max pooling output: {result.shape}')"
      ],
      "metadata": {
        "id": "rEslBlxOiUcv",
        "outputId": "1ae2e35e-0b30-4d60-bacb-c651e8e9a5dc",
        "colab": {
          "base_uri": "https://localhost:8080/"
        }
      },
      "id": "rEslBlxOiUcv",
      "execution_count": 25,
      "outputs": [
        {
          "output_type": "stream",
          "name": "stdout",
          "text": [
            "batch_size: 1\n",
            "timesteps (sequence length): 20\n",
            "features (embedding size): 20\n",
            "filters: 128\n",
            "kernel_size: 5\n",
            "shape of input array: (1, 20, 20)\n",
            "shape of conv1d output: (1, 16, 128)\n",
            "shape of global max pooling output: (1, 128)\n"
          ]
        }
      ]
    },
    {
      "cell_type": "code",
      "source": [
        "import tensorflow as tf\n",
        "\n",
        "# Hyperparameters\n",
        "embedding_dim = 64\n",
        "filters = 128\n",
        "kernel_size = 5\n",
        "dense_dim = 64\n",
        "\n",
        "# Build the model\n",
        "model = tf.keras.Sequential([\n",
        "    tf.keras.layers.Embedding(tokenizer.vocab_size, embedding_dim),\n",
        "    tf.keras.layers.Conv1D(filters=filters, kernel_size=kernel_size, activation='relu'),\n",
        "    tf.keras.layers.GlobalMaxPooling1D(),\n",
        "    tf.keras.layers.Dense(dense_dim, activation='relu'),\n",
        "    tf.keras.layers.Dense(1, activation='sigmoid')\n",
        "])\n",
        "\n",
        "# Print the model summary\n",
        "model.summary()"
      ],
      "metadata": {
        "id": "sIoS1en7io7H",
        "outputId": "f7233c7a-9de0-4ca3-f28e-169ffedc29f3",
        "colab": {
          "base_uri": "https://localhost:8080/"
        }
      },
      "id": "sIoS1en7io7H",
      "execution_count": 26,
      "outputs": [
        {
          "output_type": "stream",
          "name": "stdout",
          "text": [
            "Model: \"sequential_4\"\n",
            "_________________________________________________________________\n",
            " Layer (type)                Output Shape              Param #   \n",
            "=================================================================\n",
            " embedding_4 (Embedding)     (None, None, 64)          523840    \n",
            "                                                                 \n",
            " conv1d_5 (Conv1D)           (None, None, 128)         41088     \n",
            "                                                                 \n",
            " global_max_pooling1d_2 (Glo  (None, 128)              0         \n",
            " balMaxPooling1D)                                                \n",
            "                                                                 \n",
            " dense_8 (Dense)             (None, 64)                8256      \n",
            "                                                                 \n",
            " dense_9 (Dense)             (None, 1)                 65        \n",
            "                                                                 \n",
            "=================================================================\n",
            "Total params: 573,249\n",
            "Trainable params: 573,249\n",
            "Non-trainable params: 0\n",
            "_________________________________________________________________\n"
          ]
        }
      ]
    },
    {
      "cell_type": "code",
      "source": [
        "model.compile(loss='binary_crossentropy', optimizer='adam', metrics=['accuracy'])"
      ],
      "metadata": {
        "id": "uwEbm65Dfs8u"
      },
      "id": "uwEbm65Dfs8u",
      "execution_count": 27,
      "outputs": []
    },
    {
      "cell_type": "code",
      "source": [
        "NUM_EPOCHS = 10\n",
        "\n",
        "history = model.fit(train_dataset, epochs=NUM_EPOCHS, validation_data=test_dataset)"
      ],
      "metadata": {
        "colab": {
          "base_uri": "https://localhost:8080/"
        },
        "id": "wwjeECBogISv",
        "outputId": "f74fa754-742d-4371-fe9c-0c59622b4ce5"
      },
      "id": "wwjeECBogISv",
      "execution_count": 28,
      "outputs": [
        {
          "output_type": "stream",
          "name": "stdout",
          "text": [
            "Epoch 1/10\n",
            "98/98 [==============================] - 93s 905ms/step - loss: 0.6160 - accuracy: 0.6527 - val_loss: 0.4204 - val_accuracy: 0.8126\n",
            "Epoch 2/10\n",
            "98/98 [==============================] - 33s 338ms/step - loss: 0.2946 - accuracy: 0.8778 - val_loss: 0.2687 - val_accuracy: 0.8895\n",
            "Epoch 3/10\n",
            "98/98 [==============================] - 24s 236ms/step - loss: 0.1514 - accuracy: 0.9470 - val_loss: 0.2615 - val_accuracy: 0.8932\n",
            "Epoch 4/10\n",
            "98/98 [==============================] - 22s 219ms/step - loss: 0.0628 - accuracy: 0.9862 - val_loss: 0.2866 - val_accuracy: 0.8932\n",
            "Epoch 5/10\n",
            "98/98 [==============================] - 18s 187ms/step - loss: 0.0193 - accuracy: 0.9985 - val_loss: 0.3198 - val_accuracy: 0.8932\n",
            "Epoch 6/10\n",
            "98/98 [==============================] - 15s 154ms/step - loss: 0.0068 - accuracy: 0.9998 - val_loss: 0.3451 - val_accuracy: 0.8935\n",
            "Epoch 7/10\n",
            "98/98 [==============================] - 16s 158ms/step - loss: 0.0034 - accuracy: 0.9999 - val_loss: 0.3651 - val_accuracy: 0.8944\n",
            "Epoch 8/10\n",
            "98/98 [==============================] - 15s 148ms/step - loss: 0.0022 - accuracy: 1.0000 - val_loss: 0.3811 - val_accuracy: 0.8932\n",
            "Epoch 9/10\n",
            "98/98 [==============================] - 13s 126ms/step - loss: 0.0012 - accuracy: 1.0000 - val_loss: 0.3956 - val_accuracy: 0.8940\n",
            "Epoch 10/10\n",
            "98/98 [==============================] - 13s 131ms/step - loss: 8.9992e-04 - accuracy: 1.0000 - val_loss: 0.4078 - val_accuracy: 0.8936\n"
          ]
        }
      ]
    },
    {
      "cell_type": "code",
      "source": [
        "import matplotlib.pyplot as plt\n",
        "\n",
        "# Plot utility\n",
        "def plot_graphs(history, string):\n",
        "  plt.plot(history.history[string])\n",
        "  plt.plot(history.history['val_'+string])\n",
        "  plt.xlabel(\"Epochs\")\n",
        "  plt.ylabel(string)\n",
        "  plt.legend([string, 'val_'+string])\n",
        "  plt.show()\n",
        "\n",
        "# Plot the accuracy and results \n",
        "plot_graphs(history, \"accuracy\")\n",
        "plot_graphs(history, \"loss\")\n",
        "\n"
      ],
      "metadata": {
        "colab": {
          "base_uri": "https://localhost:8080/",
          "height": 881
        },
        "id": "LRYCt4xlgPhP",
        "outputId": "b83f7701-c296-4407-cd96-f66d2473a93b"
      },
      "id": "LRYCt4xlgPhP",
      "execution_count": 29,
      "outputs": [
        {
          "output_type": "display_data",
          "data": {
            "text/plain": [
              "<Figure size 640x480 with 1 Axes>"
            ],
            "image/png": "[encoded data removed]"
          },
          "metadata": {}
        },
        {
          "output_type": "display_data",
          "data": {
            "text/plain": [
              "<Figure size 640x480 with 1 Axes>"
            ],
            "image/png": "[encoded data removed]"
          },
          "metadata": {}
        }
      ]
    },
    {
      "cell_type": "code",
      "source": [],
      "metadata": {
        "id": "Sjs0m1z5kEpg"
      },
      "id": "Sjs0m1z5kEpg",
      "execution_count": null,
      "outputs": []
    }
  ],
  "metadata": {
    "colab": {
      "provenance": [],
      "gpuType": "T4"
    },
    "gpuClass": "standard",
    "kernelspec": {
      "display_name": "Python 3",
      "name": "python3"
    },
    "language_info": {
      "name": "python"
    },
    "accelerator": "GPU"
  },
  "nbformat": 4,
  "nbformat_minor": 5
}