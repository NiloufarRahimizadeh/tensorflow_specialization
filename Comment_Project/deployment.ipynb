{
 "cells": [
  {
   "cell_type": "code",
   "execution_count": 1,
   "id": "f826b8da",
   "metadata": {},
   "outputs": [],
   "source": [
    "import io\n",
    "import uvicorn\n",
    "import numpy as np\n",
    "import nest_asyncio\n",
    "from enum import Enum\n",
    "from pydantic import BaseModel, conlist\n",
    "from fastapi import FastAPI, UploadFile, File, HTTPException\n",
    "from fastapi.responses import StreamingResponse,JSONResponse\n",
    "import os\n",
    "import tensorflow as tf\n",
    "from tensorflow.keras.preprocessing.sequence import pad_sequences\n",
    "\n",
    "import matplotlib.pyplot as plt\n",
    "import shutil\n",
    "import pickle\n",
    "from version1 import model\n",
    "from padded_seq import seq_and_pad"
   ]
  },
  {
   "cell_type": "code",
   "execution_count": 2,
   "id": "c35a6943",
   "metadata": {},
   "outputs": [],
   "source": [
    "app = FastAPI(title='Deploying a ML Model with FastAPI')\n",
    "\n",
    "class ProductReviews(BaseModel):\n",
    "    reviews: str\n",
    "    \n",
    "@app.get(\"/\")\n",
    "def home():\n",
    "    return \"Congratulations! Your API is working as expected. Now head over to http://localhost:8000/docs.\"\n",
    "\n",
    "\n",
    "# @app.post(\"/predict/\") \n",
    "# async def predict(product_reviews: ProductReviews):\n",
    "# #     sent = 'رفتارشون خوب بود اما معماها بی معنا و الکی بودن، در کل چنتا اتاق تاریک بدون سناریوی جالب. جای لوکیشن هم اصلا مناسب نبود. در کل پیشنهاد نمیکنم.'\n",
    "#     inputs=product_reviews.reviews\n",
    "#     tokenizer = 'tokenizer.pickle'\n",
    "#     with open(tokenizer, 'rb') as handle:\n",
    "#         tokenizer = pickle.load(handle)\n",
    "#     sequences = tokenizer.texts_to_sequences([inputs])\n",
    "#     padded_sequences = pad_sequences(sequences, maxlen=120)\n",
    "#     new_model = tf.keras.models.load_model('../../saved_model/my_model')\n",
    "#     output = new_model.predict(padded_sequences[0:1])\n",
    "# #     output = np.where(output>0.5, 'spam', 'ham')[0][0]\n",
    "#     return {'output': str(output[0][0])}\n",
    "\n",
    "\n",
    "@app.post(\"/predict/\") \n",
    "async def predict(product_reviews: ProductReviews):\n",
    "    inputs=product_reviews.reviews\n",
    "    output = model(inputs, 'tokenizer.pickle', 'post', 120, '../../saved_model/my_model')\n",
    "\n",
    "    return {'output': str(output)}\n"
   ]
  },
  {
   "cell_type": "code",
   "execution_count": null,
   "id": "d0b118b5",
   "metadata": {},
   "outputs": [
    {
     "name": "stderr",
     "output_type": "stream",
     "text": [
      "INFO:     Started server process [7665]\n",
      "INFO:     Waiting for application startup.\n",
      "INFO:     Application startup complete.\n",
      "INFO:     Uvicorn running on http://127.0.0.1:8000 (Press CTRL+C to quit)\n"
     ]
    },
    {
     "name": "stdout",
     "output_type": "stream",
     "text": [
      "INFO:     127.0.0.1:59245 - \"GET /docs HTTP/1.1\" 200 OK\n",
      "INFO:     127.0.0.1:59245 - \"GET /openapi.json HTTP/1.1\" 200 OK\n",
      "Metal device set to: Apple M1\n"
     ]
    },
    {
     "name": "stderr",
     "output_type": "stream",
     "text": [
      "2023-05-13 15:59:01.244167: I tensorflow/core/common_runtime/pluggable_device/pluggable_device_factory.cc:305] Could not identify NUMA node of platform GPU ID 0, defaulting to 0. Your kernel may not have been built with NUMA support.\n",
      "2023-05-13 15:59:01.244291: I tensorflow/core/common_runtime/pluggable_device/pluggable_device_factory.cc:271] Created TensorFlow device (/job:localhost/replica:0/task:0/device:GPU:0 with 0 MB memory) -> physical PluggableDevice (device: 0, name: METAL, pci bus id: <undefined>)\n"
     ]
    },
    {
     "name": "stdout",
     "output_type": "stream",
     "text": [
      "1/1 [==============================] - 0s 119ms/step\n",
      "INFO:     127.0.0.1:59253 - \"POST /predict/ HTTP/1.1\" 200 OK\n"
     ]
    },
    {
     "name": "stderr",
     "output_type": "stream",
     "text": [
      "2023-05-13 15:59:01.521700: W tensorflow/core/platform/profile_utils/cpu_utils.cc:128] Failed to get CPU frequency: 0 Hz\n",
      "2023-05-13 15:59:01.619420: I tensorflow/core/grappler/optimizers/custom_graph_optimizer_registry.cc:113] Plugin optimizer for device_type GPU is enabled.\n"
     ]
    },
    {
     "name": "stdout",
     "output_type": "stream",
     "text": [
      "INFO:     127.0.0.1:59357 - \"POST /predict/ HTTP/1.1\" 422 Unprocessable Entity\n",
      "1/1 [==============================] - 0s 27ms/step\n",
      "INFO:     127.0.0.1:59358 - \"POST /predict/ HTTP/1.1\" 200 OK\n"
     ]
    },
    {
     "name": "stderr",
     "output_type": "stream",
     "text": [
      "2023-05-13 16:03:55.013325: I tensorflow/core/grappler/optimizers/custom_graph_optimizer_registry.cc:113] Plugin optimizer for device_type GPU is enabled.\n"
     ]
    },
    {
     "name": "stdout",
     "output_type": "stream",
     "text": [
      "1/1 [==============================] - 0s 27ms/step\n",
      "INFO:     127.0.0.1:59367 - \"POST /predict/ HTTP/1.1\" 200 OK\n"
     ]
    },
    {
     "name": "stderr",
     "output_type": "stream",
     "text": [
      "2023-05-13 16:04:38.754441: I tensorflow/core/grappler/optimizers/custom_graph_optimizer_registry.cc:113] Plugin optimizer for device_type GPU is enabled.\n"
     ]
    },
    {
     "name": "stdout",
     "output_type": "stream",
     "text": [
      "1/1 [==============================] - 0s 27ms/step\n",
      "INFO:     127.0.0.1:59374 - \"POST /predict/ HTTP/1.1\" 200 OK\n"
     ]
    },
    {
     "name": "stderr",
     "output_type": "stream",
     "text": [
      "2023-05-13 16:05:19.201569: I tensorflow/core/grappler/optimizers/custom_graph_optimizer_registry.cc:113] Plugin optimizer for device_type GPU is enabled.\n"
     ]
    },
    {
     "name": "stdout",
     "output_type": "stream",
     "text": [
      "WARNING:tensorflow:5 out of the last 5 calls to <function Model.make_predict_function.<locals>.predict_function at 0x28960b4c0> triggered tf.function retracing. Tracing is expensive and the excessive number of tracings could be due to (1) creating @tf.function repeatedly in a loop, (2) passing tensors with different shapes, (3) passing Python objects instead of tensors. For (1), please define your @tf.function outside of the loop. For (2), @tf.function has reduce_retracing=True option that can avoid unnecessary retracing. For (3), please refer to https://www.tensorflow.org/guide/function#controlling_retracing and https://www.tensorflow.org/api_docs/python/tf/function for  more details.\n",
      "1/1 [==============================] - 0s 27ms/step\n",
      "INFO:     127.0.0.1:59375 - \"POST /predict/ HTTP/1.1\" 200 OK\n"
     ]
    },
    {
     "name": "stderr",
     "output_type": "stream",
     "text": [
      "2023-05-13 16:05:26.716511: I tensorflow/core/grappler/optimizers/custom_graph_optimizer_registry.cc:113] Plugin optimizer for device_type GPU is enabled.\n"
     ]
    },
    {
     "name": "stdout",
     "output_type": "stream",
     "text": [
      "INFO:     127.0.0.1:59377 - \"POST /predict/ HTTP/1.1\" 422 Unprocessable Entity\n",
      "INFO:     127.0.0.1:59380 - \"POST /predict/ HTTP/1.1\" 422 Unprocessable Entity\n",
      "WARNING:tensorflow:6 out of the last 6 calls to <function Model.make_predict_function.<locals>.predict_function at 0x2896073a0> triggered tf.function retracing. Tracing is expensive and the excessive number of tracings could be due to (1) creating @tf.function repeatedly in a loop, (2) passing tensors with different shapes, (3) passing Python objects instead of tensors. For (1), please define your @tf.function outside of the loop. For (2), @tf.function has reduce_retracing=True option that can avoid unnecessary retracing. For (3), please refer to https://www.tensorflow.org/guide/function#controlling_retracing and https://www.tensorflow.org/api_docs/python/tf/function for  more details.\n",
      "1/1 [==============================] - 0s 27ms/step\n",
      "INFO:     127.0.0.1:59381 - \"POST /predict/ HTTP/1.1\" 200 OK\n"
     ]
    },
    {
     "name": "stderr",
     "output_type": "stream",
     "text": [
      "2023-05-13 16:08:22.288676: I tensorflow/core/grappler/optimizers/custom_graph_optimizer_registry.cc:113] Plugin optimizer for device_type GPU is enabled.\n"
     ]
    },
    {
     "name": "stdout",
     "output_type": "stream",
     "text": [
      "1/1 [==============================] - 0s 27ms/step\n",
      "INFO:     127.0.0.1:59396 - \"POST /predict/ HTTP/1.1\" 200 OK\n"
     ]
    },
    {
     "name": "stderr",
     "output_type": "stream",
     "text": [
      "2023-05-13 16:11:53.784081: I tensorflow/core/grappler/optimizers/custom_graph_optimizer_registry.cc:113] Plugin optimizer for device_type GPU is enabled.\n"
     ]
    },
    {
     "name": "stdout",
     "output_type": "stream",
     "text": [
      "1/1 [==============================] - 0s 28ms/step\n",
      "INFO:     127.0.0.1:59524 - \"POST /predict/ HTTP/1.1\" 200 OK\n"
     ]
    },
    {
     "name": "stderr",
     "output_type": "stream",
     "text": [
      "2023-05-13 16:33:00.422185: I tensorflow/core/grappler/optimizers/custom_graph_optimizer_registry.cc:113] Plugin optimizer for device_type GPU is enabled.\n"
     ]
    }
   ],
   "source": [
    "nest_asyncio.apply()\n",
    "\n",
    "# Host depends on the setup you selected (docker or virtual env)\n",
    "host = \"0.0.0.0\" if os.getenv(\"DOCKER-SETUP\") else \"127.0.0.1\"\n",
    "\n",
    "# Spin up the server!    \n",
    "uvicorn.run(app, host=host, port=8000)"
   ]
  },
  {
   "cell_type": "code",
   "execution_count": null,
   "id": "df0cc974",
   "metadata": {},
   "outputs": [],
   "source": [
    "sent = 'رفتارشون خوب بود اما معماها بی معنا و الکی بودن، در کل چنتا اتاق تاریک بدون سناریوی جالب. جای لوکیشن هم اصلا مناسب نبود. در کل پیشنهاد نمیکنم.'\n",
    "tokenizer = 'tokenizer.pickle'\n",
    "with open(tokenizer, 'rb') as handle:\n",
    "    tokenizer = pickle.load(handle)\n",
    "sequences = tokenizer.texts_to_sequences([sent])\n",
    "padded_sequences = pad_sequences(sequences, padding='post', maxlen=120)\n",
    "new_model = tf.keras.models.load_model('../../saved_model/my_model')\n",
    "output = new_model.predict(padded_sequences)"
   ]
  },
  {
   "cell_type": "code",
   "execution_count": null,
   "id": "4e682def",
   "metadata": {},
   "outputs": [],
   "source": [
    "output"
   ]
  },
  {
   "cell_type": "code",
   "execution_count": null,
   "id": "ecddf4c2",
   "metadata": {},
   "outputs": [],
   "source": []
  },
  {
   "cell_type": "code",
   "execution_count": null,
   "id": "b904c0b1",
   "metadata": {},
   "outputs": [],
   "source": []
  }
 ],
 "metadata": {
  "kernelspec": {
   "display_name": "tf38",
   "language": "python",
   "name": "tf38"
  },
  "language_info": {
   "codemirror_mode": {
    "name": "ipython",
    "version": 3
   },
   "file_extension": ".py",
   "mimetype": "text/x-python",
   "name": "python",
   "nbconvert_exporter": "python",
   "pygments_lexer": "ipython3",
   "version": "3.8.9"
  }
 },
 "nbformat": 4,
 "nbformat_minor": 5
}
