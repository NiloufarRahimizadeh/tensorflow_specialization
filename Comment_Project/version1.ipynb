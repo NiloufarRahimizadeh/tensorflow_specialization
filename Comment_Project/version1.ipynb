{
 "cells": [
  {
   "cell_type": "code",
   "execution_count": 1,
   "id": "7ad7f01c",
   "metadata": {},
   "outputs": [],
   "source": [
    "import numpy as np\n",
    "import pandas as pd\n",
    "import pickle\n",
    "import tensorflow as tf\n",
    "from tensorflow.keras.preprocessing.text import Tokenizer\n",
    "from tensorflow.keras.preprocessing.sequence import pad_sequences"
   ]
  },
  {
   "cell_type": "code",
   "execution_count": 2,
   "id": "5e168f13",
   "metadata": {},
   "outputs": [
    {
     "data": {
      "text/html": [
       "<div>\n",
       "<style scoped>\n",
       "    .dataframe tbody tr th:only-of-type {\n",
       "        vertical-align: middle;\n",
       "    }\n",
       "\n",
       "    .dataframe tbody tr th {\n",
       "        vertical-align: top;\n",
       "    }\n",
       "\n",
       "    .dataframe thead th {\n",
       "        text-align: right;\n",
       "    }\n",
       "</style>\n",
       "<table border=\"1\" class=\"dataframe\">\n",
       "  <thead>\n",
       "    <tr style=\"text-align: right;\">\n",
       "      <th></th>\n",
       "      <th>Text (comment)</th>\n",
       "      <th>Spam or ham</th>\n",
       "    </tr>\n",
       "  </thead>\n",
       "  <tbody>\n",
       "    <tr>\n",
       "      <th>0</th>\n",
       "      <td>یه مشت لات و لوت جمع کردید تو این اتاق فرار و ...</td>\n",
       "      <td>Spam</td>\n",
       "    </tr>\n",
       "    <tr>\n",
       "      <th>1</th>\n",
       "      <td>سناریو اصلا خوب نبود و برای ما نصفه تموم شد - ...</td>\n",
       "      <td>Spam</td>\n",
       "    </tr>\n",
       "    <tr>\n",
       "      <th>2</th>\n",
       "      <td>رفتار پرسنل مناسب نبود\\n  عدم اگاهی رسانی دقیق...</td>\n",
       "      <td>Spam</td>\n",
       "    </tr>\n",
       "    <tr>\n",
       "      <th>3</th>\n",
       "      <td>😡😡😡هشدار این یک کلاه برداری علنی است😡😡😡\\nخونه ...</td>\n",
       "      <td>Spam</td>\n",
       "    </tr>\n",
       "    <tr>\n",
       "      <th>4</th>\n",
       "      <td>اتاق فرار خوبی بود اما نه به اندازه کامنت ها ق...</td>\n",
       "      <td>Spam</td>\n",
       "    </tr>\n",
       "    <tr>\n",
       "      <th>5</th>\n",
       "      <td>سلام\\nمجوز برای اتاق فرار نداشتند\\nبرخورد خوب ...</td>\n",
       "      <td>Spam</td>\n",
       "    </tr>\n",
       "    <tr>\n",
       "      <th>6</th>\n",
       "      <td>داستان بازی سر و ته مشخصی نداشت،بیشتر فضا سازی...</td>\n",
       "      <td>Spam</td>\n",
       "    </tr>\n",
       "    <tr>\n",
       "      <th>7</th>\n",
       "      <td>در خصوص بازی های اتاق فرار با احترام به کسانی ...</td>\n",
       "      <td>Spam</td>\n",
       "    </tr>\n",
       "    <tr>\n",
       "      <th>8</th>\n",
       "      <td>نه مجوز\\nنه کوچه مطمئن \\nنه محله درست\\nنه جای ...</td>\n",
       "      <td>Spam</td>\n",
       "    </tr>\n",
       "    <tr>\n",
       "      <th>9</th>\n",
       "      <td>افتضاح خواهشن به كامنت ها توجه نكنيد\\nنميدونم ...</td>\n",
       "      <td>Spam</td>\n",
       "    </tr>\n",
       "    <tr>\n",
       "      <th>10</th>\n",
       "      <td>سلام اتاق واقعا فضای بزرگی داشت و طبقات زیاد ا...</td>\n",
       "      <td>Spam</td>\n",
       "    </tr>\n",
       "    <tr>\n",
       "      <th>11</th>\n",
       "      <td>بی ناموساااا</td>\n",
       "      <td>Spam</td>\n",
       "    </tr>\n",
       "    <tr>\n",
       "      <th>12</th>\n",
       "      <td>به نظر من واقعا از هیچ نظر خوب نبود، چون قبل ا...</td>\n",
       "      <td>Spam</td>\n",
       "    </tr>\n",
       "    <tr>\n",
       "      <th>13</th>\n",
       "      <td>اصلا جالب نبود قفل ها همه خراب  ما برای پیدا ک...</td>\n",
       "      <td>Spam</td>\n",
       "    </tr>\n",
       "    <tr>\n",
       "      <th>14</th>\n",
       "      <td>سلام ما دیشب ساعت ۱۲ سانس ویژه بازیو رزرو کرده...</td>\n",
       "      <td>Spam</td>\n",
       "    </tr>\n",
       "    <tr>\n",
       "      <th>15</th>\n",
       "      <td>افتضاح\\nدکور و فضا سازی خدایی خوب بود \\nولی اک...</td>\n",
       "      <td>Spam</td>\n",
       "    </tr>\n",
       "    <tr>\n",
       "      <th>16</th>\n",
       "      <td>ما اولش انصراف دادیم ولی رفتار پرسنل بسیار بد ...</td>\n",
       "      <td>Spam</td>\n",
       "    </tr>\n",
       "    <tr>\n",
       "      <th>17</th>\n",
       "      <td>بسیار ضعیف بود.دکور ضعیف،سناریو ضعیف،بازی اکتو...</td>\n",
       "      <td>Spam</td>\n",
       "    </tr>\n",
       "  </tbody>\n",
       "</table>\n",
       "</div>"
      ],
      "text/plain": [
       "                                       Text (comment) Spam or ham \n",
       "0   یه مشت لات و لوت جمع کردید تو این اتاق فرار و ...         Spam\n",
       "1   سناریو اصلا خوب نبود و برای ما نصفه تموم شد - ...         Spam\n",
       "2   رفتار پرسنل مناسب نبود\\n  عدم اگاهی رسانی دقیق...         Spam\n",
       "3   😡😡😡هشدار این یک کلاه برداری علنی است😡😡😡\\nخونه ...         Spam\n",
       "4   اتاق فرار خوبی بود اما نه به اندازه کامنت ها ق...         Spam\n",
       "5   سلام\\nمجوز برای اتاق فرار نداشتند\\nبرخورد خوب ...         Spam\n",
       "6   داستان بازی سر و ته مشخصی نداشت،بیشتر فضا سازی...         Spam\n",
       "7   در خصوص بازی های اتاق فرار با احترام به کسانی ...         Spam\n",
       "8   نه مجوز\\nنه کوچه مطمئن \\nنه محله درست\\nنه جای ...         Spam\n",
       "9   افتضاح خواهشن به كامنت ها توجه نكنيد\\nنميدونم ...         Spam\n",
       "10  سلام اتاق واقعا فضای بزرگی داشت و طبقات زیاد ا...         Spam\n",
       "11                                       بی ناموساااا         Spam\n",
       "12  به نظر من واقعا از هیچ نظر خوب نبود، چون قبل ا...         Spam\n",
       "13  اصلا جالب نبود قفل ها همه خراب  ما برای پیدا ک...         Spam\n",
       "14  سلام ما دیشب ساعت ۱۲ سانس ویژه بازیو رزرو کرده...         Spam\n",
       "15  افتضاح\\nدکور و فضا سازی خدایی خوب بود \\nولی اک...         Spam\n",
       "16  ما اولش انصراف دادیم ولی رفتار پرسنل بسیار بد ...         Spam\n",
       "17  بسیار ضعیف بود.دکور ضعیف،سناریو ضعیف،بازی اکتو...         Spam"
      ]
     },
     "execution_count": 2,
     "metadata": {},
     "output_type": "execute_result"
    }
   ],
   "source": [
    "data_path = '/Users/niloufar/Desktop/DeepLearning/tf_specialization/comment/'\n",
    "data1 = 'spam_or_not1.xlsx'\n",
    "data2 = 'spam_or_not2.xlsx'\n",
    "data3 = 'spam_or_not3.xlsx'\n",
    "\n",
    "df1 = pd.read_excel(data_path + data1)\n",
    "df2 = pd.read_excel(data_path + data2)\n",
    "df3 = pd.read_excel(data_path + data3)\n",
    "\n",
    "df = pd.concat([df1, df2, df3], ignore_index=True)\n",
    "df = df.drop(['ID', df.columns[3]], axis=1)\n",
    "df.head(18)"
   ]
  },
  {
   "cell_type": "code",
   "execution_count": 3,
   "id": "11b4d7b3",
   "metadata": {},
   "outputs": [
    {
     "data": {
      "text/plain": [
       "Spam or ham \n",
       "ham     5524\n",
       "spam     711\n",
       "Name: count, dtype: int64"
      ]
     },
     "execution_count": 3,
     "metadata": {},
     "output_type": "execute_result"
    }
   ],
   "source": [
    "df['Spam or ham '] = df.apply(lambda x: x[1].lower(), axis=1)\n",
    "df[df.columns[1]].value_counts()"
   ]
  },
  {
   "cell_type": "code",
   "execution_count": 4,
   "id": "0fae6850",
   "metadata": {},
   "outputs": [
    {
     "data": {
      "text/html": [
       "<div>\n",
       "<style scoped>\n",
       "    .dataframe tbody tr th:only-of-type {\n",
       "        vertical-align: middle;\n",
       "    }\n",
       "\n",
       "    .dataframe tbody tr th {\n",
       "        vertical-align: top;\n",
       "    }\n",
       "\n",
       "    .dataframe thead th {\n",
       "        text-align: right;\n",
       "    }\n",
       "</style>\n",
       "<table border=\"1\" class=\"dataframe\">\n",
       "  <thead>\n",
       "    <tr style=\"text-align: right;\">\n",
       "      <th></th>\n",
       "      <th>Text (comment)</th>\n",
       "      <th>labels</th>\n",
       "    </tr>\n",
       "  </thead>\n",
       "  <tbody>\n",
       "    <tr>\n",
       "      <th>0</th>\n",
       "      <td>یه مشت لات و لوت جمع کردید تو این اتاق فرار و ...</td>\n",
       "      <td>1</td>\n",
       "    </tr>\n",
       "    <tr>\n",
       "      <th>1</th>\n",
       "      <td>سناریو اصلا خوب نبود و برای ما نصفه تموم شد - ...</td>\n",
       "      <td>1</td>\n",
       "    </tr>\n",
       "    <tr>\n",
       "      <th>2</th>\n",
       "      <td>رفتار پرسنل مناسب نبود\\n  عدم اگاهی رسانی دقیق...</td>\n",
       "      <td>1</td>\n",
       "    </tr>\n",
       "    <tr>\n",
       "      <th>3</th>\n",
       "      <td>😡😡😡هشدار این یک کلاه برداری علنی است😡😡😡\\nخونه ...</td>\n",
       "      <td>1</td>\n",
       "    </tr>\n",
       "    <tr>\n",
       "      <th>4</th>\n",
       "      <td>اتاق فرار خوبی بود اما نه به اندازه کامنت ها ق...</td>\n",
       "      <td>1</td>\n",
       "    </tr>\n",
       "  </tbody>\n",
       "</table>\n",
       "</div>"
      ],
      "text/plain": [
       "                                      Text (comment)  labels\n",
       "0  یه مشت لات و لوت جمع کردید تو این اتاق فرار و ...       1\n",
       "1  سناریو اصلا خوب نبود و برای ما نصفه تموم شد - ...       1\n",
       "2  رفتار پرسنل مناسب نبود\\n  عدم اگاهی رسانی دقیق...       1\n",
       "3  😡😡😡هشدار این یک کلاه برداری علنی است😡😡😡\\nخونه ...       1\n",
       "4  اتاق فرار خوبی بود اما نه به اندازه کامنت ها ق...       1"
      ]
     },
     "execution_count": 4,
     "metadata": {},
     "output_type": "execute_result"
    }
   ],
   "source": [
    "df['labels'] = np.where(df['Spam or ham ']=='spam', 1, 0)\n",
    "df = df.drop(columns='Spam or ham ', axis=1)\n",
    "df.head()"
   ]
  },
  {
   "cell_type": "markdown",
   "id": "c62379bb",
   "metadata": {},
   "source": [
    "### Sampling"
   ]
  },
  {
   "cell_type": "code",
   "execution_count": 5,
   "id": "1819956f",
   "metadata": {},
   "outputs": [
    {
     "data": {
      "text/plain": [
       "labels\n",
       "0    5524\n",
       "1     711\n",
       "Name: count, dtype: int64"
      ]
     },
     "execution_count": 5,
     "metadata": {},
     "output_type": "execute_result"
    }
   ],
   "source": [
    "df[df.columns[1]].value_counts()"
   ]
  },
  {
   "cell_type": "code",
   "execution_count": 6,
   "id": "5c9526e5",
   "metadata": {},
   "outputs": [
    {
     "data": {
      "text/plain": [
       "11048"
      ]
     },
     "execution_count": 6,
     "metadata": {},
     "output_type": "execute_result"
    }
   ],
   "source": [
    "df_grouped_by = df.groupby('labels')\n",
    "df_balanced = df_grouped_by.apply(lambda x: x.sample(df_grouped_by.size().max(), replace=True, random_state=0).reset_index(drop=True))\n",
    "len(df_balanced)"
   ]
  },
  {
   "cell_type": "code",
   "execution_count": 7,
   "id": "d44b2669",
   "metadata": {},
   "outputs": [
    {
     "data": {
      "text/plain": [
       "labels\n",
       "0    5524\n",
       "1    5524\n",
       "Name: count, dtype: int64"
      ]
     },
     "execution_count": 7,
     "metadata": {},
     "output_type": "execute_result"
    }
   ],
   "source": [
    "df_balanced[df_balanced.columns[1]].value_counts()"
   ]
  },
  {
   "cell_type": "code",
   "execution_count": 8,
   "id": "5394b57f",
   "metadata": {},
   "outputs": [],
   "source": [
    "# d = {'class':['c1','c2','c1','c1','c2','c1','c1','c2','c3','c3'],\n",
    "#      'val': [1,2,1,1,2,1,1,2,3,3]\n",
    "#     }\n",
    "\n",
    "# df = pd.DataFrame(d)\n",
    "\n",
    "# df"
   ]
  },
  {
   "cell_type": "code",
   "execution_count": 9,
   "id": "375546d4",
   "metadata": {},
   "outputs": [],
   "source": [
    "# g = df.groupby('class')\n",
    "# b = g.apply(lambda x: x.sample(g.size().max(), replace=True).reset_index(drop=True))\n",
    "# b"
   ]
  },
  {
   "cell_type": "code",
   "execution_count": 10,
   "id": "7783ca41",
   "metadata": {},
   "outputs": [],
   "source": [
    "def remove_stopwords(sentence):\n",
    "    stopwords = ['که', 'در', 'از', 'به', 'و', 'را', 'این', 'آن', 'بعد', 'همه', 'دوباره', 'یک', 'یه', 'من', 'تو', 'او', 'ما', 'شما', 'قبل', 'آنها', 'زیرا', 'زیر', 'اما', 'بین', 'دو', 'با', 'اونجا',\n",
    "                'برای', 'حتما','حالی', 'چرا', 'چی', 'ازطریق', 'رو', ',', 'واقعا','ها', 'تو', 'اون', 'ترین', 'توی', 'چه', 'مارو', 'سر', 'اونجا', 'خود', 'هارو', 'آقا', 'همتون', 'هام', 'دوتا', 'دوباره',\n",
    "                'اگه', 'ولی', 'روش', 'اینو', 'هنوز', 'ده', 'سه', 'چهار', 'پنج', 'شش', 'هفت', 'هشت', 'نه', 'ده', 'نا','ایی']\n",
    "    words = sentence.split()\n",
    "    results_words = [word for word in words if word not in stopwords]\n",
    "    sentence = ' '.join(results_words)\n",
    "    return sentence"
   ]
  },
  {
   "cell_type": "code",
   "execution_count": 11,
   "id": "1b0b89f1",
   "metadata": {},
   "outputs": [
    {
     "data": {
      "text/plain": [
       "'پدر سگ درخت بست.'"
      ]
     },
     "execution_count": 11,
     "metadata": {},
     "output_type": "execute_result"
    }
   ],
   "source": [
    "remove_stopwords(\"پدر سگ را به درخت بست.\")"
   ]
  },
  {
   "cell_type": "markdown",
   "id": "6965fc20",
   "metadata": {},
   "source": [
    "### Reading the raw data"
   ]
  },
  {
   "cell_type": "code",
   "execution_count": 12,
   "id": "b70cf449",
   "metadata": {},
   "outputs": [],
   "source": [
    "def parse_data_from_file(df):\n",
    "    sentences = []\n",
    "    labels = []\n",
    "    for i,j in zip(df[df.columns[0]], df[df.columns[1]]):\n",
    "        sentences.append(remove_stopwords(i))\n",
    "        labels.append(j)\n",
    "    return sentences, labels"
   ]
  },
  {
   "cell_type": "code",
   "execution_count": 13,
   "id": "1dc41920",
   "metadata": {},
   "outputs": [],
   "source": [
    "sentences, labels = parse_data_from_file(df_balanced)"
   ]
  },
  {
   "cell_type": "code",
   "execution_count": 14,
   "id": "e082d1f0",
   "metadata": {},
   "outputs": [
    {
     "name": "stdout",
     "output_type": "stream",
     "text": [
      "There are 11048 sentences in the dataset.\n",
      "\n",
      "First sentence has 3 words (after removing stopwords).\n",
      "\n",
      "There are 11048 labels in the dataset.\n",
      "\n",
      "The first 5 labels are [0, 0, 0, 0, 0]\n"
     ]
    }
   ],
   "source": [
    "print(f\"There are {len(sentences)} sentences in the dataset.\\n\")\n",
    "print(f\"First sentence has {len(sentences[0].split())} words (after removing stopwords).\\n\")\n",
    "print(f\"There are {len(labels)} labels in the dataset.\\n\")\n",
    "print(f\"The first 5 labels are {labels[:5]}\")"
   ]
  },
  {
   "cell_type": "code",
   "execution_count": 15,
   "id": "f0d073d3",
   "metadata": {},
   "outputs": [],
   "source": [
    "NUM_WORDS = 10911 #10894\n",
    "EMBEDDING_DIM = 64\n",
    "MAXLEN = 250 #681\n",
    "PADDING = 'post'\n",
    "OOV_TOKEN = '<OOV>'\n",
    "TRAINING_SPLIT = .8"
   ]
  },
  {
   "cell_type": "markdown",
   "id": "3642c075",
   "metadata": {},
   "source": [
    "### Training - Validation Split"
   ]
  },
  {
   "cell_type": "code",
   "execution_count": 16,
   "id": "8e9019e7",
   "metadata": {},
   "outputs": [],
   "source": [
    "from sklearn.model_selection import train_test_split\n",
    "train_sentences, val_sentences, train_labels, val_labels = train_test_split(sentences, labels, test_size=.2, random_state=0)"
   ]
  },
  {
   "cell_type": "code",
   "execution_count": 17,
   "id": "d18e57b4",
   "metadata": {},
   "outputs": [],
   "source": [
    "# train_df = pd.DataFrame(train_sentences, columns=['comments'])\n",
    "# train_df['labels'] = train_labels\n",
    "# train_df.to_csv('train_df.csv', index=False)"
   ]
  },
  {
   "cell_type": "code",
   "execution_count": 18,
   "id": "f25076d0",
   "metadata": {},
   "outputs": [],
   "source": [
    "# val_df = pd.DataFrame(val_sentences, columns=['comments'])\n",
    "# val_df['labels'] = val_labels\n",
    "# val_df.to_csv('val_df.csv', index=False)"
   ]
  },
  {
   "cell_type": "code",
   "execution_count": 19,
   "id": "d2ae9d23",
   "metadata": {},
   "outputs": [],
   "source": [
    "# def train_val_split(sentences, labels, training_split):\n",
    "#     train_size = int(len(sentences)*training_split)\n",
    "#     train_sentences = sentences[:train_size]\n",
    "#     train_labels = labels[:train_size]\n",
    "    \n",
    "#     validation_sentences = sentences[train_size:]\n",
    "#     validation_labels = labels[train_size:]\n",
    "#     return train_sentences, validation_sentences, train_labels, validation_labels"
   ]
  },
  {
   "cell_type": "code",
   "execution_count": 20,
   "id": "c93e29bf",
   "metadata": {},
   "outputs": [
    {
     "name": "stdout",
     "output_type": "stream",
     "text": [
      "There are 8838 sentences for training.\n",
      "\n",
      "There are 8838 labels for training.\n",
      "\n",
      "There are 2210 sentences for validation.\n",
      "\n",
      "There are 2210 labels for validation.\n"
     ]
    }
   ],
   "source": [
    "# train_sentences, val_sentences, train_labels, val_labels = train_val_split(sentences, labels, TRAINING_SPLIT)\n",
    "\n",
    "print(f\"There are {len(train_sentences)} sentences for training.\\n\")\n",
    "print(f\"There are {len(train_labels)} labels for training.\\n\")\n",
    "print(f\"There are {len(val_sentences)} sentences for validation.\\n\")\n",
    "print(f\"There are {len(val_labels)} labels for validation.\")"
   ]
  },
  {
   "cell_type": "markdown",
   "id": "97fcd8b5",
   "metadata": {},
   "source": [
    "### Using the Tokenizer"
   ]
  },
  {
   "cell_type": "code",
   "execution_count": 21,
   "id": "2871dcd1",
   "metadata": {},
   "outputs": [],
   "source": [
    "# train_labels.count(1), val_labels.count(1)"
   ]
  },
  {
   "cell_type": "code",
   "execution_count": 22,
   "id": "bfcdd5fe",
   "metadata": {},
   "outputs": [],
   "source": [
    "train_labels = np.array(train_labels)\n",
    "val_labels = np.array(val_labels)"
   ]
  },
  {
   "cell_type": "code",
   "execution_count": 23,
   "id": "73f46b2c",
   "metadata": {},
   "outputs": [],
   "source": [
    "def fit_tokenizer(sentences, num_words, oov_token):\n",
    "    tokenizer = Tokenizer(num_words=num_words, oov_token=oov_token)\n",
    "    tokenizer.fit_on_texts(sentences)\n",
    "    return tokenizer"
   ]
  },
  {
   "cell_type": "code",
   "execution_count": 24,
   "id": "4caa9d71",
   "metadata": {},
   "outputs": [
    {
     "name": "stdout",
     "output_type": "stream",
     "text": [
      "Vocabulary contains 10896 words\n",
      "\n",
      "<OOV> token included in vocabulary\n"
     ]
    }
   ],
   "source": [
    "tokenizer = fit_tokenizer(np.array(train_sentences), NUM_WORDS, OOV_TOKEN)\n",
    "word_index = tokenizer.word_index\n",
    "\n",
    "print(f\"Vocabulary contains {len(tokenizer.word_index)} words\\n\")\n",
    "print(\"<OOV> token included in vocabulary\" if \"<OOV>\" in tokenizer.word_index else \"<OOV> token NOT included in vocabulary\")"
   ]
  },
  {
   "cell_type": "markdown",
   "id": "0c46690b",
   "metadata": {},
   "source": [
    "### Save tokenizer"
   ]
  },
  {
   "cell_type": "code",
   "execution_count": 25,
   "id": "ee5dfffb",
   "metadata": {},
   "outputs": [],
   "source": [
    "import pickle\n",
    "with open('tokenizer.pickle', 'wb') as handle:\n",
    "    pickle.dump(tokenizer, handle, protocol=pickle.HIGHEST_PROTOCOL)\n",
    "with open('tokenizer.pickle', 'rb') as handle:\n",
    "    tokenizer = pickle.load(handle)"
   ]
  },
  {
   "cell_type": "code",
   "execution_count": 26,
   "id": "ec185d2a",
   "metadata": {},
   "outputs": [],
   "source": [
    "def seq_and_pad(tokenizer, sentences, padding, maxlen):\n",
    "    sequences = tokenizer.texts_to_sequences(sentences)\n",
    "    padded_sequences = pad_sequences(sequences, padding=padding, maxlen=maxlen)\n",
    "    return padded_sequences"
   ]
  },
  {
   "cell_type": "code",
   "execution_count": 27,
   "id": "3ff32ac9",
   "metadata": {},
   "outputs": [
    {
     "name": "stdout",
     "output_type": "stream",
     "text": [
      "Padded training sequences have shape: (8838, 250)\n",
      "\n",
      "Padded validation sequences have shape: (2210, 250)\n"
     ]
    }
   ],
   "source": [
    "train_padded_seq = seq_and_pad(tokenizer,train_sentences, PADDING, MAXLEN)\n",
    "val_padded_seq = seq_and_pad(tokenizer, val_sentences, PADDING, MAXLEN)\n",
    "\n",
    "print(f\"Padded training sequences have shape: {train_padded_seq.shape}\\n\")\n",
    "print(f\"Padded validation sequences have shape: {val_padded_seq.shape}\")"
   ]
  },
  {
   "cell_type": "code",
   "execution_count": null,
   "id": "d8f73a7b",
   "metadata": {},
   "outputs": [],
   "source": [
    "# def tokenize_labels(all_labels, split_labels):\n",
    "#     label_tokenizer = Tokenizer()\n",
    "#     label_tokenizer.fit_on_texts(all_labels)\n",
    "#     label_seq = label_tokenizer.texts_to_sequences(split_labels)\n",
    "#     label_seq_np = np.array(label_seq) - 1\n",
    "    \n",
    "#     return label_seq_np"
   ]
  },
  {
   "cell_type": "code",
   "execution_count": 28,
   "id": "c98c36f8",
   "metadata": {},
   "outputs": [
    {
     "name": "stdout",
     "output_type": "stream",
     "text": [
      "First 5 labels of the training set should look like this:\n",
      "[0 0 1 0 1]\n",
      "\n",
      "First 5 labels of the validation set should look like this:\n",
      "[0 1 0 1 1]\n",
      "\n",
      "Tokenized labels of the training set have shape: (8838,)\n",
      "\n",
      "Tokenized labels of the validation set have shape: (2210,)\n",
      "\n"
     ]
    }
   ],
   "source": [
    "# train_label_seq = tokenize_labels(labels, train_labels)\n",
    "# val_label_seq = tokenize_labels(labels, val_labels)\n",
    "\n",
    "print(f\"First 5 labels of the training set should look like this:\\n{train_labels[:5]}\\n\")\n",
    "print(f\"First 5 labels of the validation set should look like this:\\n{val_labels[:5]}\\n\")\n",
    "print(f\"Tokenized labels of the training set have shape: {train_labels.shape}\\n\")\n",
    "print(f\"Tokenized labels of the validation set have shape: {val_labels.shape}\\n\")"
   ]
  },
  {
   "cell_type": "markdown",
   "id": "e263abf1",
   "metadata": {},
   "source": [
    "### Selecting the model for text classification"
   ]
  },
  {
   "cell_type": "code",
   "execution_count": 29,
   "id": "c5e747cd",
   "metadata": {},
   "outputs": [],
   "source": [
    "def create_model(num_words, embedding_dim, maxlen):\n",
    "    \n",
    "    tf.random.set_seed(123)\n",
    "\n",
    "    model = tf.keras.Sequential([\n",
    "        tf.keras.layers.Embedding(num_words, embedding_dim, input_length=MAXLEN),\n",
    "#         tf.keras.layers.GlobalAveragePooling1D(),\n",
    "        tf.keras.layers.Flatten(),\n",
    "        tf.keras.layers.Dense(6, activation='relu'),\n",
    "        tf.keras.layers.Dense(1, activation='sigmoid')\n",
    "    ])\n",
    "    model.compile(loss='binary_crossentropy', optimizer='adam', metrics=['accuracy'])\n",
    "    model.summary()\n",
    "    return model"
   ]
  },
  {
   "cell_type": "code",
   "execution_count": 30,
   "id": "cb85724d",
   "metadata": {},
   "outputs": [
    {
     "name": "stdout",
     "output_type": "stream",
     "text": [
      "Metal device set to: Apple M1\n",
      "Model: \"sequential\"\n",
      "_________________________________________________________________\n",
      " Layer (type)                Output Shape              Param #   \n",
      "=================================================================\n",
      " embedding (Embedding)       (None, 250, 64)           698304    \n",
      "                                                                 \n",
      " flatten (Flatten)           (None, 16000)             0         \n",
      "                                                                 \n",
      " dense (Dense)               (None, 6)                 96006     \n",
      "                                                                 \n",
      " dense_1 (Dense)             (None, 1)                 7         \n",
      "                                                                 \n",
      "=================================================================\n",
      "Total params: 794,317\n",
      "Trainable params: 794,317\n",
      "Non-trainable params: 0\n",
      "_________________________________________________________________\n"
     ]
    },
    {
     "name": "stderr",
     "output_type": "stream",
     "text": [
      "2023-05-15 12:51:01.440999: I tensorflow/core/common_runtime/pluggable_device/pluggable_device_factory.cc:305] Could not identify NUMA node of platform GPU ID 0, defaulting to 0. Your kernel may not have been built with NUMA support.\n",
      "2023-05-15 12:51:01.441238: I tensorflow/core/common_runtime/pluggable_device/pluggable_device_factory.cc:271] Created TensorFlow device (/job:localhost/replica:0/task:0/device:GPU:0 with 0 MB memory) -> physical PluggableDevice (device: 0, name: METAL, pci bus id: <undefined>)\n"
     ]
    }
   ],
   "source": [
    "model = create_model(NUM_WORDS, EMBEDDING_DIM, MAXLEN)"
   ]
  },
  {
   "cell_type": "code",
   "execution_count": 31,
   "id": "cd63c804",
   "metadata": {},
   "outputs": [
    {
     "name": "stdout",
     "output_type": "stream",
     "text": [
      "Epoch 1/60\n"
     ]
    },
    {
     "name": "stderr",
     "output_type": "stream",
     "text": [
      "2023-05-15 12:51:02.767534: W tensorflow/core/platform/profile_utils/cpu_utils.cc:128] Failed to get CPU frequency: 0 Hz\n"
     ]
    },
    {
     "name": "stdout",
     "output_type": "stream",
     "text": [
      "\r",
      "  1/277 [..............................] - ETA: 1:39 - loss: 0.6928 - accuracy: 0.5938"
     ]
    },
    {
     "name": "stderr",
     "output_type": "stream",
     "text": [
      "2023-05-15 12:51:02.981151: I tensorflow/core/grappler/optimizers/custom_graph_optimizer_registry.cc:113] Plugin optimizer for device_type GPU is enabled.\n"
     ]
    },
    {
     "name": "stdout",
     "output_type": "stream",
     "text": [
      "277/277 [==============================] - ETA: 0s - loss: 0.4021 - accuracy: 0.8123"
     ]
    },
    {
     "name": "stderr",
     "output_type": "stream",
     "text": [
      "2023-05-15 12:51:17.159128: I tensorflow/core/grappler/optimizers/custom_graph_optimizer_registry.cc:113] Plugin optimizer for device_type GPU is enabled.\n"
     ]
    },
    {
     "name": "stdout",
     "output_type": "stream",
     "text": [
      "277/277 [==============================] - 15s 52ms/step - loss: 0.4021 - accuracy: 0.8123 - val_loss: 0.1773 - val_accuracy: 0.9434\n",
      "Epoch 2/60\n",
      "277/277 [==============================] - 14s 52ms/step - loss: 0.0882 - accuracy: 0.9741 - val_loss: 0.0598 - val_accuracy: 0.9814\n",
      "Epoch 3/60\n",
      "277/277 [==============================] - 14s 52ms/step - loss: 0.0229 - accuracy: 0.9945 - val_loss: 0.0343 - val_accuracy: 0.9882\n",
      "Epoch 4/60\n",
      "277/277 [==============================] - 14s 52ms/step - loss: 0.0105 - accuracy: 0.9976 - val_loss: 0.0283 - val_accuracy: 0.9914\n",
      "Epoch 5/60\n",
      "277/277 [==============================] - 14s 52ms/step - loss: 0.0067 - accuracy: 0.9984 - val_loss: 0.0204 - val_accuracy: 0.9941\n",
      "Epoch 6/60\n",
      "277/277 [==============================] - 14s 52ms/step - loss: 0.0054 - accuracy: 0.9983 - val_loss: 0.0241 - val_accuracy: 0.9914\n",
      "Epoch 7/60\n",
      "277/277 [==============================] - 14s 52ms/step - loss: 0.0043 - accuracy: 0.9985 - val_loss: 0.0309 - val_accuracy: 0.9882\n",
      "Epoch 8/60\n",
      "277/277 [==============================] - 14s 51ms/step - loss: 0.0033 - accuracy: 0.9989 - val_loss: 0.0237 - val_accuracy: 0.9919\n",
      "Epoch 9/60\n",
      "277/277 [==============================] - 14s 51ms/step - loss: 0.0033 - accuracy: 0.9985 - val_loss: 0.0261 - val_accuracy: 0.9910\n",
      "Epoch 10/60\n",
      "277/277 [==============================] - 660s 2s/step - loss: 0.0027 - accuracy: 0.9990 - val_loss: 0.0330 - val_accuracy: 0.9891\n",
      "Epoch 11/60\n",
      "277/277 [==============================] - 14s 52ms/step - loss: 0.0030 - accuracy: 0.9989 - val_loss: 0.0182 - val_accuracy: 0.9941\n",
      "Epoch 12/60\n",
      "277/277 [==============================] - 14s 51ms/step - loss: 0.0027 - accuracy: 0.9986 - val_loss: 0.0253 - val_accuracy: 0.9914\n",
      "Epoch 13/60\n",
      "277/277 [==============================] - 14s 51ms/step - loss: 0.0026 - accuracy: 0.9988 - val_loss: 0.0251 - val_accuracy: 0.9914\n",
      "Epoch 14/60\n",
      "277/277 [==============================] - 14s 51ms/step - loss: 0.0025 - accuracy: 0.9990 - val_loss: 0.0312 - val_accuracy: 0.9905\n",
      "Epoch 15/60\n",
      "277/277 [==============================] - 14s 51ms/step - loss: 0.0025 - accuracy: 0.9989 - val_loss: 0.0267 - val_accuracy: 0.9923\n",
      "Epoch 16/60\n",
      "277/277 [==============================] - 14s 51ms/step - loss: 0.0024 - accuracy: 0.9986 - val_loss: 0.0431 - val_accuracy: 0.9860\n",
      "Epoch 17/60\n",
      "277/277 [==============================] - 14s 50ms/step - loss: 0.0024 - accuracy: 0.9988 - val_loss: 0.0328 - val_accuracy: 0.9891\n",
      "Epoch 18/60\n",
      "277/277 [==============================] - 14s 50ms/step - loss: 0.0027 - accuracy: 0.9990 - val_loss: 0.0208 - val_accuracy: 0.9941\n",
      "Epoch 19/60\n",
      "277/277 [==============================] - 14s 50ms/step - loss: 0.0028 - accuracy: 0.9989 - val_loss: 0.0150 - val_accuracy: 0.9964\n",
      "Epoch 20/60\n",
      "277/277 [==============================] - 14s 50ms/step - loss: 0.0027 - accuracy: 0.9989 - val_loss: 0.0323 - val_accuracy: 0.9891\n",
      "Epoch 21/60\n",
      "277/277 [==============================] - 14s 50ms/step - loss: 0.0023 - accuracy: 0.9990 - val_loss: 0.0314 - val_accuracy: 0.9896\n",
      "Epoch 22/60\n",
      "277/277 [==============================] - 14s 49ms/step - loss: 0.0022 - accuracy: 0.9991 - val_loss: 0.0170 - val_accuracy: 0.9955\n",
      "Epoch 23/60\n",
      "277/277 [==============================] - 14s 50ms/step - loss: 0.0025 - accuracy: 0.9988 - val_loss: 0.0408 - val_accuracy: 0.9887\n",
      "Epoch 24/60\n",
      "277/277 [==============================] - 14s 50ms/step - loss: 0.0025 - accuracy: 0.9986 - val_loss: 0.0278 - val_accuracy: 0.9900\n",
      "Epoch 25/60\n",
      "277/277 [==============================] - 13s 48ms/step - loss: 0.0038 - accuracy: 0.9985 - val_loss: 0.0327 - val_accuracy: 0.9891\n",
      "Epoch 26/60\n",
      "277/277 [==============================] - 13s 48ms/step - loss: 0.0025 - accuracy: 0.9989 - val_loss: 0.0237 - val_accuracy: 0.9941\n",
      "Epoch 27/60\n",
      "277/277 [==============================] - 13s 48ms/step - loss: 0.0021 - accuracy: 0.9992 - val_loss: 0.0191 - val_accuracy: 0.9950\n",
      "Epoch 28/60\n",
      "277/277 [==============================] - 13s 47ms/step - loss: 0.0025 - accuracy: 0.9988 - val_loss: 0.0240 - val_accuracy: 0.9932\n",
      "Epoch 29/60\n",
      "277/277 [==============================] - 13s 48ms/step - loss: 0.0023 - accuracy: 0.9991 - val_loss: 0.0237 - val_accuracy: 0.9941\n",
      "Epoch 30/60\n",
      "277/277 [==============================] - 13s 47ms/step - loss: 0.0024 - accuracy: 0.9989 - val_loss: 0.0223 - val_accuracy: 0.9937\n",
      "Epoch 31/60\n",
      "277/277 [==============================] - 13s 48ms/step - loss: 0.0027 - accuracy: 0.9985 - val_loss: 0.0224 - val_accuracy: 0.9937\n",
      "Epoch 32/60\n",
      "277/277 [==============================] - 13s 48ms/step - loss: 0.0022 - accuracy: 0.9989 - val_loss: 0.0251 - val_accuracy: 0.9928\n",
      "Epoch 33/60\n",
      "277/277 [==============================] - 13s 48ms/step - loss: 0.0024 - accuracy: 0.9990 - val_loss: 0.0192 - val_accuracy: 0.9946\n",
      "Epoch 34/60\n",
      "277/277 [==============================] - 13s 46ms/step - loss: 0.0024 - accuracy: 0.9986 - val_loss: 0.0247 - val_accuracy: 0.9919\n",
      "Epoch 35/60\n",
      "277/277 [==============================] - 13s 47ms/step - loss: 0.0022 - accuracy: 0.9988 - val_loss: 0.0237 - val_accuracy: 0.9928\n",
      "Epoch 36/60\n",
      "277/277 [==============================] - 13s 45ms/step - loss: 0.0025 - accuracy: 0.9988 - val_loss: 0.0737 - val_accuracy: 0.9828\n",
      "Epoch 37/60\n",
      "277/277 [==============================] - 13s 46ms/step - loss: 0.0020 - accuracy: 0.9990 - val_loss: 0.0326 - val_accuracy: 0.9900\n",
      "Epoch 38/60\n",
      "277/277 [==============================] - 13s 46ms/step - loss: 0.0023 - accuracy: 0.9989 - val_loss: 0.0281 - val_accuracy: 0.9910\n",
      "Epoch 39/60\n",
      "277/277 [==============================] - 13s 46ms/step - loss: 0.0025 - accuracy: 0.9988 - val_loss: 0.0291 - val_accuracy: 0.9914\n",
      "Epoch 40/60\n",
      "277/277 [==============================] - 13s 45ms/step - loss: 0.0024 - accuracy: 0.9986 - val_loss: 0.0285 - val_accuracy: 0.9919\n",
      "Epoch 41/60\n",
      "277/277 [==============================] - 12s 45ms/step - loss: 0.0025 - accuracy: 0.9989 - val_loss: 0.0448 - val_accuracy: 0.9860\n",
      "Epoch 42/60\n",
      "277/277 [==============================] - 12s 45ms/step - loss: 0.0021 - accuracy: 0.9990 - val_loss: 0.0222 - val_accuracy: 0.9932\n",
      "Epoch 43/60\n",
      "277/277 [==============================] - 13s 46ms/step - loss: 0.0022 - accuracy: 0.9990 - val_loss: 0.0293 - val_accuracy: 0.9910\n",
      "Epoch 44/60\n",
      "277/277 [==============================] - 13s 45ms/step - loss: 0.0021 - accuracy: 0.9988 - val_loss: 0.0260 - val_accuracy: 0.9914\n",
      "Epoch 45/60\n",
      "277/277 [==============================] - 13s 45ms/step - loss: 0.0022 - accuracy: 0.9990 - val_loss: 0.0504 - val_accuracy: 0.9846\n",
      "Epoch 46/60\n",
      "277/277 [==============================] - 13s 45ms/step - loss: 0.0020 - accuracy: 0.9991 - val_loss: 0.0601 - val_accuracy: 0.9846\n",
      "Epoch 47/60\n",
      "277/277 [==============================] - 12s 45ms/step - loss: 0.0024 - accuracy: 0.9988 - val_loss: 0.0342 - val_accuracy: 0.9882\n",
      "Epoch 48/60\n",
      "277/277 [==============================] - 12s 45ms/step - loss: 0.0020 - accuracy: 0.9988 - val_loss: 0.0291 - val_accuracy: 0.9914\n",
      "Epoch 49/60\n",
      "277/277 [==============================] - 12s 44ms/step - loss: 0.0024 - accuracy: 0.9985 - val_loss: 0.0331 - val_accuracy: 0.9887\n",
      "Epoch 50/60\n",
      "277/277 [==============================] - 12s 43ms/step - loss: 0.0024 - accuracy: 0.9988 - val_loss: 0.0413 - val_accuracy: 0.9869\n",
      "Epoch 51/60\n",
      "277/277 [==============================] - 12s 43ms/step - loss: 0.0024 - accuracy: 0.9988 - val_loss: 0.0460 - val_accuracy: 0.9882\n",
      "Epoch 52/60\n",
      "277/277 [==============================] - 12s 42ms/step - loss: 0.0022 - accuracy: 0.9988 - val_loss: 0.0269 - val_accuracy: 0.9896\n",
      "Epoch 53/60\n",
      "277/277 [==============================] - 12s 42ms/step - loss: 0.0020 - accuracy: 0.9990 - val_loss: 0.0627 - val_accuracy: 0.9869\n",
      "Epoch 54/60\n",
      "277/277 [==============================] - 11s 41ms/step - loss: 0.0022 - accuracy: 0.9986 - val_loss: 0.0471 - val_accuracy: 0.9869\n",
      "Epoch 55/60\n",
      "277/277 [==============================] - 12s 42ms/step - loss: 0.0021 - accuracy: 0.9988 - val_loss: 0.0403 - val_accuracy: 0.9873\n",
      "Epoch 56/60\n",
      "277/277 [==============================] - 11s 41ms/step - loss: 0.0031 - accuracy: 0.9990 - val_loss: 0.0429 - val_accuracy: 0.9887\n",
      "Epoch 57/60\n"
     ]
    },
    {
     "name": "stdout",
     "output_type": "stream",
     "text": [
      "277/277 [==============================] - 12s 44ms/step - loss: 0.0022 - accuracy: 0.9988 - val_loss: 0.0458 - val_accuracy: 0.9873\n",
      "Epoch 58/60\n",
      "277/277 [==============================] - 12s 43ms/step - loss: 0.0023 - accuracy: 0.9988 - val_loss: 0.0366 - val_accuracy: 0.9869\n",
      "Epoch 59/60\n",
      "277/277 [==============================] - 12s 43ms/step - loss: 0.0021 - accuracy: 0.9990 - val_loss: 0.0484 - val_accuracy: 0.9873\n",
      "Epoch 60/60\n",
      "277/277 [==============================] - 12s 42ms/step - loss: 0.0021 - accuracy: 0.9989 - val_loss: 0.0508 - val_accuracy: 0.9873\n"
     ]
    }
   ],
   "source": [
    "history = model.fit(train_padded_seq, train_labels, epochs=60, validation_data=(val_padded_seq, val_labels))"
   ]
  },
  {
   "cell_type": "code",
   "execution_count": null,
   "id": "82480cf2",
   "metadata": {},
   "outputs": [],
   "source": [
    "model.predict(val_padded_seq[1:2])"
   ]
  },
  {
   "cell_type": "code",
   "execution_count": null,
   "id": "5152ec55",
   "metadata": {},
   "outputs": [],
   "source": [
    "val_labels[1:2]"
   ]
  },
  {
   "cell_type": "code",
   "execution_count": 32,
   "id": "6bfba567",
   "metadata": {},
   "outputs": [
    {
     "data": {
      "image/png": "[encoded data removed]",
      "text/plain": [
       "<Figure size 640x480 with 1 Axes>"
      ]
     },
     "metadata": {},
     "output_type": "display_data"
    },
    {
     "data": {
      "image/png": "[encoded data removed]",
      "text/plain": [
       "<Figure size 640x480 with 1 Axes>"
      ]
     },
     "metadata": {},
     "output_type": "display_data"
    }
   ],
   "source": [
    "import matplotlib.pyplot as plt\n",
    "def plot_graphs(history, metric):\n",
    "    plt.plot(history.history[metric])\n",
    "    plt.plot(history.history[f'val_{metric}'])\n",
    "    plt.xlabel(\"Epochs\")\n",
    "    plt.ylabel(metric)\n",
    "    plt.legend([metric, f'val_{metric}'])\n",
    "    plt.show()\n",
    "    \n",
    "plot_graphs(history, \"accuracy\")\n",
    "plot_graphs(history, \"loss\")   "
   ]
  },
  {
   "cell_type": "markdown",
   "id": "2f94f2e4",
   "metadata": {},
   "source": [
    "### Save the entire model"
   ]
  },
  {
   "cell_type": "code",
   "execution_count": 33,
   "id": "f5458e98",
   "metadata": {},
   "outputs": [
    {
     "name": "stdout",
     "output_type": "stream",
     "text": [
      "INFO:tensorflow:Assets written to: ../../saved_model/my_model4/assets\n"
     ]
    }
   ],
   "source": [
    "# !mkdir -p ../../saved_model\n",
    "model.save('../../saved_model/my_model4')\n"
   ]
  },
  {
   "cell_type": "code",
   "execution_count": 34,
   "id": "ecabfacb",
   "metadata": {},
   "outputs": [],
   "source": [
    "new_model = tf.keras.models.load_model('../../saved_model/my_model4')\n",
    "# new_model.predict(train_padded_seq[1:2])"
   ]
  },
  {
   "cell_type": "code",
   "execution_count": null,
   "id": "ef6474d4",
   "metadata": {},
   "outputs": [],
   "source": [
    "train_labels[1:2]"
   ]
  },
  {
   "cell_type": "code",
   "execution_count": 35,
   "id": "adb3e4de",
   "metadata": {},
   "outputs": [
    {
     "data": {
      "image/png": "[encoded data removed]",
      "text/plain": [
       "<Figure size 640x480 with 2 Axes>"
      ]
     },
     "metadata": {},
     "output_type": "display_data"
    }
   ],
   "source": [
    "from sklearn.metrics import confusion_matrix\n",
    "from sklearn import metrics\n",
    "import matplotlib.pyplot as plt\n",
    "\n",
    "predicted = new_model(val_padded_seq)\n",
    "predicted = np.where(predicted>0.5, 1, 0)\n",
    "confusion_matrix = confusion_matrix(val_labels, predicted)\n",
    "\n",
    "cm_display = metrics.ConfusionMatrixDisplay(confusion_matrix = confusion_matrix, display_labels = ['ham', 'spam'])\n",
    "\n",
    "cm_display.plot()\n",
    "plt.show()"
   ]
  },
  {
   "cell_type": "code",
   "execution_count": null,
   "id": "63c99e60",
   "metadata": {},
   "outputs": [],
   "source": [
    "len(val_labels[val_labels==1])"
   ]
  },
  {
   "cell_type": "code",
   "execution_count": null,
   "id": "5c4c0a1f",
   "metadata": {},
   "outputs": [],
   "source": [
    "len(predicted[predicted==1])"
   ]
  },
  {
   "cell_type": "code",
   "execution_count": 36,
   "id": "e5507199",
   "metadata": {},
   "outputs": [
    {
     "name": "stdout",
     "output_type": "stream",
     "text": [
      "1/1 [==============================] - 0s 71ms/step\n"
     ]
    },
    {
     "name": "stderr",
     "output_type": "stream",
     "text": [
      "2023-05-15 13:16:43.118230: I tensorflow/core/grappler/optimizers/custom_graph_optimizer_registry.cc:113] Plugin optimizer for device_type GPU is enabled.\n"
     ]
    },
    {
     "data": {
      "text/plain": [
       "array([[0.91666555]], dtype=float32)"
      ]
     },
     "execution_count": 36,
     "metadata": {},
     "output_type": "execute_result"
    }
   ],
   "source": [
    "sentence = 'زباله'\n",
    "sentence = remove_stopwords(sentence)\n",
    "with open('tokenizer.pickle', 'rb') as handle:\n",
    "    tokenizer = pickle.load(handle)\n",
    "padded_seq = seq_and_pad(tokenizer,[sentence], 'post', 250)\n",
    "new_model.predict(padded_seq[0:1])"
   ]
  },
  {
   "cell_type": "code",
   "execution_count": null,
   "id": "6f92d4cc",
   "metadata": {},
   "outputs": [],
   "source": []
  }
 ],
 "metadata": {
  "kernelspec": {
   "display_name": "tf38",
   "language": "python",
   "name": "tf38"
  },
  "language_info": {
   "codemirror_mode": {
    "name": "ipython",
    "version": 3
   },
   "file_extension": ".py",
   "mimetype": "text/x-python",
   "name": "python",
   "nbconvert_exporter": "python",
   "pygments_lexer": "ipython3",
   "version": "3.8.9"
  }
 },
 "nbformat": 4,
 "nbformat_minor": 5
}
