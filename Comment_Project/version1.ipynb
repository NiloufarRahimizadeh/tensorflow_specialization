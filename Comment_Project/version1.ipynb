{
 "cells": [
  {
   "cell_type": "code",
   "execution_count": 3,
   "id": "7ad7f01c",
   "metadata": {},
   "outputs": [],
   "source": [
    "import pandas as pd\n",
    "import tensorflow as tf\n",
    "from tensorflow.keras.preprocessing.text import Tokenizer\n",
    "from tensorflow.keras.preprocessing.sequence import pad_sequences"
   ]
  },
  {
   "cell_type": "code",
   "execution_count": 7,
   "id": "5e168f13",
   "metadata": {},
   "outputs": [
    {
     "data": {
      "text/html": [
       "<div>\n",
       "<style scoped>\n",
       "    .dataframe tbody tr th:only-of-type {\n",
       "        vertical-align: middle;\n",
       "    }\n",
       "\n",
       "    .dataframe tbody tr th {\n",
       "        vertical-align: top;\n",
       "    }\n",
       "\n",
       "    .dataframe thead th {\n",
       "        text-align: right;\n",
       "    }\n",
       "</style>\n",
       "<table border=\"1\" class=\"dataframe\">\n",
       "  <thead>\n",
       "    <tr style=\"text-align: right;\">\n",
       "      <th></th>\n",
       "      <th>Text (comment)</th>\n",
       "      <th>Spam or ham</th>\n",
       "    </tr>\n",
       "  </thead>\n",
       "  <tbody>\n",
       "    <tr>\n",
       "      <th>0</th>\n",
       "      <td>یه مشت لات و لوت جمع کردید تو این اتاق فرار و ...</td>\n",
       "      <td>Spam</td>\n",
       "    </tr>\n",
       "    <tr>\n",
       "      <th>1</th>\n",
       "      <td>سناریو اصلا خوب نبود و برای ما نصفه تموم شد - ...</td>\n",
       "      <td>Spam</td>\n",
       "    </tr>\n",
       "    <tr>\n",
       "      <th>2</th>\n",
       "      <td>رفتار پرسنل مناسب نبود\\n  عدم اگاهی رسانی دقیق...</td>\n",
       "      <td>Spam</td>\n",
       "    </tr>\n",
       "    <tr>\n",
       "      <th>3</th>\n",
       "      <td>😡😡😡هشدار این یک کلاه برداری علنی است😡😡😡\\nخونه ...</td>\n",
       "      <td>Spam</td>\n",
       "    </tr>\n",
       "    <tr>\n",
       "      <th>4</th>\n",
       "      <td>اتاق فرار خوبی بود اما نه به اندازه کامنت ها ق...</td>\n",
       "      <td>Spam</td>\n",
       "    </tr>\n",
       "    <tr>\n",
       "      <th>5</th>\n",
       "      <td>سلام\\nمجوز برای اتاق فرار نداشتند\\nبرخورد خوب ...</td>\n",
       "      <td>Spam</td>\n",
       "    </tr>\n",
       "    <tr>\n",
       "      <th>6</th>\n",
       "      <td>داستان بازی سر و ته مشخصی نداشت،بیشتر فضا سازی...</td>\n",
       "      <td>Spam</td>\n",
       "    </tr>\n",
       "    <tr>\n",
       "      <th>7</th>\n",
       "      <td>در خصوص بازی های اتاق فرار با احترام به کسانی ...</td>\n",
       "      <td>Spam</td>\n",
       "    </tr>\n",
       "    <tr>\n",
       "      <th>8</th>\n",
       "      <td>نه مجوز\\nنه کوچه مطمئن \\nنه محله درست\\nنه جای ...</td>\n",
       "      <td>Spam</td>\n",
       "    </tr>\n",
       "    <tr>\n",
       "      <th>9</th>\n",
       "      <td>افتضاح خواهشن به كامنت ها توجه نكنيد\\nنميدونم ...</td>\n",
       "      <td>Spam</td>\n",
       "    </tr>\n",
       "    <tr>\n",
       "      <th>10</th>\n",
       "      <td>سلام اتاق واقعا فضای بزرگی داشت و طبقات زیاد ا...</td>\n",
       "      <td>Spam</td>\n",
       "    </tr>\n",
       "    <tr>\n",
       "      <th>11</th>\n",
       "      <td>بی ناموساااا</td>\n",
       "      <td>Spam</td>\n",
       "    </tr>\n",
       "    <tr>\n",
       "      <th>12</th>\n",
       "      <td>به نظر من واقعا از هیچ نظر خوب نبود، چون قبل ا...</td>\n",
       "      <td>Spam</td>\n",
       "    </tr>\n",
       "    <tr>\n",
       "      <th>13</th>\n",
       "      <td>اصلا جالب نبود قفل ها همه خراب  ما برای پیدا ک...</td>\n",
       "      <td>Spam</td>\n",
       "    </tr>\n",
       "    <tr>\n",
       "      <th>14</th>\n",
       "      <td>سلام ما دیشب ساعت ۱۲ سانس ویژه بازیو رزرو کرده...</td>\n",
       "      <td>Spam</td>\n",
       "    </tr>\n",
       "    <tr>\n",
       "      <th>15</th>\n",
       "      <td>افتضاح\\nدکور و فضا سازی خدایی خوب بود \\nولی اک...</td>\n",
       "      <td>Spam</td>\n",
       "    </tr>\n",
       "    <tr>\n",
       "      <th>16</th>\n",
       "      <td>ما اولش انصراف دادیم ولی رفتار پرسنل بسیار بد ...</td>\n",
       "      <td>Spam</td>\n",
       "    </tr>\n",
       "    <tr>\n",
       "      <th>17</th>\n",
       "      <td>بسیار ضعیف بود.دکور ضعیف،سناریو ضعیف،بازی اکتو...</td>\n",
       "      <td>Spam</td>\n",
       "    </tr>\n",
       "  </tbody>\n",
       "</table>\n",
       "</div>"
      ],
      "text/plain": [
       "                                       Text (comment) Spam or ham \n",
       "0   یه مشت لات و لوت جمع کردید تو این اتاق فرار و ...         Spam\n",
       "1   سناریو اصلا خوب نبود و برای ما نصفه تموم شد - ...         Spam\n",
       "2   رفتار پرسنل مناسب نبود\\n  عدم اگاهی رسانی دقیق...         Spam\n",
       "3   😡😡😡هشدار این یک کلاه برداری علنی است😡😡😡\\nخونه ...         Spam\n",
       "4   اتاق فرار خوبی بود اما نه به اندازه کامنت ها ق...         Spam\n",
       "5   سلام\\nمجوز برای اتاق فرار نداشتند\\nبرخورد خوب ...         Spam\n",
       "6   داستان بازی سر و ته مشخصی نداشت،بیشتر فضا سازی...         Spam\n",
       "7   در خصوص بازی های اتاق فرار با احترام به کسانی ...         Spam\n",
       "8   نه مجوز\\nنه کوچه مطمئن \\nنه محله درست\\nنه جای ...         Spam\n",
       "9   افتضاح خواهشن به كامنت ها توجه نكنيد\\nنميدونم ...         Spam\n",
       "10  سلام اتاق واقعا فضای بزرگی داشت و طبقات زیاد ا...         Spam\n",
       "11                                       بی ناموساااا         Spam\n",
       "12  به نظر من واقعا از هیچ نظر خوب نبود، چون قبل ا...         Spam\n",
       "13  اصلا جالب نبود قفل ها همه خراب  ما برای پیدا ک...         Spam\n",
       "14  سلام ما دیشب ساعت ۱۲ سانس ویژه بازیو رزرو کرده...         Spam\n",
       "15  افتضاح\\nدکور و فضا سازی خدایی خوب بود \\nولی اک...         Spam\n",
       "16  ما اولش انصراف دادیم ولی رفتار پرسنل بسیار بد ...         Spam\n",
       "17  بسیار ضعیف بود.دکور ضعیف،سناریو ضعیف،بازی اکتو...         Spam"
      ]
     },
     "execution_count": 7,
     "metadata": {},
     "output_type": "execute_result"
    }
   ],
   "source": [
    "data_path = '/Users/niloufar/Desktop/DeepLearning/tf_specialization/comment/'\n",
    "data1 = 'spam_or_not1.xlsx'\n",
    "data2 = 'spam_or_not2.xlsx'\n",
    "data3 = 'spam_or_not3.xlsx'\n",
    "\n",
    "df1 = pd.read_excel(data_path + data1)\n",
    "df2 = pd.read_excel(data_path + data2)\n",
    "df3 = pd.read_excel(data_path + data3)\n",
    "\n",
    "df = pd.concat([df1, df2, df3], ignore_index=True)\n",
    "df = df.drop(['ID', df.columns[3]], axis=1)\n",
    "df.head(18)"
   ]
  },
  {
   "cell_type": "code",
   "execution_count": 11,
   "id": "7783ca41",
   "metadata": {},
   "outputs": [],
   "source": [
    "def remove_stopwords(sentences):\n",
    "    stopwords = ['که', 'در', 'از', 'به', 'و', 'را', 'این', 'آن', 'بعد', 'همه', 'دوباره', 'یک', 'یه', 'من', 'تو', 'او', 'ما', 'شما', 'قبل', 'آنها', 'زیرا', 'زیر', 'اما', 'بین', 'دو', 'با', 'اونجا',\n",
    "                'برای', 'حتما','حالی', 'چرا', 'چی', 'ازطریق', 'رو', ',', 'واقعا','ها', 'تو', 'اون', 'ترین', 'توی', 'چه', 'مارو', 'سر', 'اونجا', 'خود', 'هارو', 'آقا', 'همتون', 'هام', 'دوتا', 'دوباره',\n",
    "                'اگه', 'ولی', 'روش', 'اینو', 'هنوز', 'ده', 'سه', 'چهار', 'پنج', 'شش', 'هفت', 'هشت', 'نه', 'ده', 'نا','ایی']\n",
    "    "
   ]
  },
  {
   "cell_type": "code",
   "execution_count": 12,
   "id": "1b0b89f1",
   "metadata": {},
   "outputs": [
    {
     "data": {
      "text/plain": [
       "66"
      ]
     },
     "execution_count": 12,
     "metadata": {},
     "output_type": "execute_result"
    }
   ],
   "source": [
    "len(stopwords)"
   ]
  },
  {
   "cell_type": "code",
   "execution_count": 10,
   "id": "9cd32b32",
   "metadata": {},
   "outputs": [
    {
     "data": {
      "text/plain": [
       "53"
      ]
     },
     "execution_count": 10,
     "metadata": {},
     "output_type": "execute_result"
    }
   ],
   "source": []
  },
  {
   "cell_type": "code",
   "execution_count": null,
   "id": "2871dcd1",
   "metadata": {},
   "outputs": [],
   "source": []
  },
  {
   "cell_type": "code",
   "execution_count": null,
   "id": "f5d93c8a",
   "metadata": {},
   "outputs": [],
   "source": []
  },
  {
   "cell_type": "code",
   "execution_count": null,
   "id": "4de78331",
   "metadata": {},
   "outputs": [],
   "source": []
  },
  {
   "cell_type": "code",
   "execution_count": null,
   "id": "27636208",
   "metadata": {},
   "outputs": [],
   "source": []
  },
  {
   "cell_type": "code",
   "execution_count": null,
   "id": "90eb74df",
   "metadata": {},
   "outputs": [],
   "source": []
  }
 ],
 "metadata": {
  "kernelspec": {
   "display_name": "tf38",
   "language": "python",
   "name": "tf38"
  },
  "language_info": {
   "codemirror_mode": {
    "name": "ipython",
    "version": 3
   },
   "file_extension": ".py",
   "mimetype": "text/x-python",
   "name": "python",
   "nbconvert_exporter": "python",
   "pygments_lexer": "ipython3",
   "version": "3.8.9"
  }
 },
 "nbformat": 4,
 "nbformat_minor": 5
}
