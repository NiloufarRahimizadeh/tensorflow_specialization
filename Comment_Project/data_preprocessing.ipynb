{
 "cells": [
  {
   "cell_type": "code",
   "execution_count": 20,
   "id": "c153ef88",
   "metadata": {},
   "outputs": [
    {
     "data": {
      "text/html": [
       "<div>\n",
       "<style scoped>\n",
       "    .dataframe tbody tr th:only-of-type {\n",
       "        vertical-align: middle;\n",
       "    }\n",
       "\n",
       "    .dataframe tbody tr th {\n",
       "        vertical-align: top;\n",
       "    }\n",
       "\n",
       "    .dataframe thead th {\n",
       "        text-align: right;\n",
       "    }\n",
       "</style>\n",
       "<table border=\"1\" class=\"dataframe\">\n",
       "  <thead>\n",
       "    <tr style=\"text-align: right;\">\n",
       "      <th></th>\n",
       "      <th>Text (comment)</th>\n",
       "      <th>Spam or ham</th>\n",
       "      <th>Spam or ham2</th>\n",
       "    </tr>\n",
       "  </thead>\n",
       "  <tbody>\n",
       "    <tr>\n",
       "      <th>995</th>\n",
       "      <td>سلام و وقت بخیر خدمت همه ی اسکیپ بازها....\\nمن...</td>\n",
       "      <td>ham</td>\n",
       "      <td>NaN</td>\n",
       "    </tr>\n",
       "    <tr>\n",
       "      <th>996</th>\n",
       "      <td>اگه بخوام یه بازی خوب به کسی معرفی کنم طوبی رو...</td>\n",
       "      <td>ham</td>\n",
       "      <td>NaN</td>\n",
       "    </tr>\n",
       "    <tr>\n",
       "      <th>997</th>\n",
       "      <td>عللی</td>\n",
       "      <td>ham</td>\n",
       "      <td>NaN</td>\n",
       "    </tr>\n",
       "    <tr>\n",
       "      <th>998</th>\n",
       "      <td>بازی خوب و جذابیه. سناریو جا داره یمقدار بهتر ...</td>\n",
       "      <td>ham</td>\n",
       "      <td>NaN</td>\n",
       "    </tr>\n",
       "    <tr>\n",
       "      <th>999</th>\n",
       "      <td>بازی قشنگیه ولی نه واسه الان که خیلی بازی های ...</td>\n",
       "      <td>ham</td>\n",
       "      <td>NaN</td>\n",
       "    </tr>\n",
       "    <tr>\n",
       "      <th>1000</th>\n",
       "      <td>سلام طراحی دکور ث من دوس داشتم اما معماها خیلی...</td>\n",
       "      <td>spam</td>\n",
       "      <td>NaN</td>\n",
       "    </tr>\n",
       "    <tr>\n",
       "      <th>1001</th>\n",
       "      <td>سلام ما امروز سانس داشتیم به بهونه های مختلف س...</td>\n",
       "      <td>spam</td>\n",
       "      <td>NaN</td>\n",
       "    </tr>\n",
       "    <tr>\n",
       "      <th>1002</th>\n",
       "      <td>نسبت به تعرییفش نبود</td>\n",
       "      <td>ham</td>\n",
       "      <td>NaN</td>\n",
       "    </tr>\n",
       "    <tr>\n",
       "      <th>1003</th>\n",
       "      <td>به نظرم می‌تونست بازی قوی تری باشه اما در کل خ...</td>\n",
       "      <td>ham</td>\n",
       "      <td>NaN</td>\n",
       "    </tr>\n",
       "    <tr>\n",
       "      <th>1004</th>\n",
       "      <td>بسیار ضعیف تر از آنکه تعریف کردا بودن، نور بند...</td>\n",
       "      <td>spam</td>\n",
       "      <td>NaN</td>\n",
       "    </tr>\n",
       "  </tbody>\n",
       "</table>\n",
       "</div>"
      ],
      "text/plain": [
       "                                         Text (comment) Spam or ham    \n",
       "995   سلام و وقت بخیر خدمت همه ی اسکیپ بازها....\\nمن...          ham  \\\n",
       "996   اگه بخوام یه بازی خوب به کسی معرفی کنم طوبی رو...          ham   \n",
       "997                                                عللی          ham   \n",
       "998   بازی خوب و جذابیه. سناریو جا داره یمقدار بهتر ...          ham   \n",
       "999   بازی قشنگیه ولی نه واسه الان که خیلی بازی های ...          ham   \n",
       "1000  سلام طراحی دکور ث من دوس داشتم اما معماها خیلی...         spam   \n",
       "1001  سلام ما امروز سانس داشتیم به بهونه های مختلف س...         spam   \n",
       "1002                               نسبت به تعرییفش نبود          ham   \n",
       "1003  به نظرم می‌تونست بازی قوی تری باشه اما در کل خ...          ham   \n",
       "1004  بسیار ضعیف تر از آنکه تعریف کردا بودن، نور بند...         spam   \n",
       "\n",
       "     Spam or ham2   \n",
       "995            NaN  \n",
       "996            NaN  \n",
       "997            NaN  \n",
       "998            NaN  \n",
       "999            NaN  \n",
       "1000           NaN  \n",
       "1001           NaN  \n",
       "1002           NaN  \n",
       "1003           NaN  \n",
       "1004           NaN  "
      ]
     },
     "execution_count": 20,
     "metadata": {},
     "output_type": "execute_result"
    }
   ],
   "source": [
    "import pandas as pd\n",
    "\n",
    "data_path = '/Users/niloufar/Desktop/DeepLearning/tf_specialization/comment/'\n",
    "data1 = 'spam_or_not1.xlsx'\n",
    "data2 = 'spam_or_not2.xlsx'\n",
    "data3 = 'spam_or_not3.xlsx'\n",
    "df1 = pd.read_excel(data_path + data1)\n",
    "df2 = pd.read_excel(data_path + data2)\n",
    "df3 = pd.read_excel(data_path + data3)\n",
    "df = pd.concat([df1, df2, df3], ignore_index=True)\n",
    "df = df.drop(['ID'], axis=1)\n",
    "df.iloc[995:1005, :]"
   ]
  },
  {
   "cell_type": "code",
   "execution_count": null,
   "id": "269197c9",
   "metadata": {},
   "outputs": [],
   "source": [
    "# pip install --upgrade pip"
   ]
  },
  {
   "cell_type": "code",
   "execution_count": null,
   "id": "b6c3728f",
   "metadata": {},
   "outputs": [],
   "source": [
    "# pip install pandas"
   ]
  },
  {
   "cell_type": "code",
   "execution_count": null,
   "id": "715405de",
   "metadata": {},
   "outputs": [],
   "source": [
    "pip install openpyxl"
   ]
  },
  {
   "cell_type": "code",
   "execution_count": null,
   "id": "d280edfd",
   "metadata": {},
   "outputs": [],
   "source": []
  }
 ],
 "metadata": {
  "kernelspec": {
   "display_name": "tf38",
   "language": "python",
   "name": "tf38"
  },
  "language_info": {
   "codemirror_mode": {
    "name": "ipython",
    "version": 3
   },
   "file_extension": ".py",
   "mimetype": "text/x-python",
   "name": "python",
   "nbconvert_exporter": "python",
   "pygments_lexer": "ipython3",
   "version": "3.8.9"
  }
 },
 "nbformat": 4,
 "nbformat_minor": 5
}
